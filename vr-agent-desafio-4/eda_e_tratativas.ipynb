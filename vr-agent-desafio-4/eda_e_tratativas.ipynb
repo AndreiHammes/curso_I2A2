{
 "cells": [
  {
   "cell_type": "code",
   "execution_count": 3590,
   "id": "a2cde72e",
   "metadata": {},
   "outputs": [],
   "source": [
    "import pandas as pd \n",
    "import calendar\n",
    "from workalendar.america import Brazil"
   ]
  },
  {
   "cell_type": "code",
   "execution_count": 3591,
   "id": "52e0a34b",
   "metadata": {},
   "outputs": [],
   "source": [
    "df_ativos = pd.read_excel(r\"C:\\Users\\gpr\\Documents\\Projeto Agents\\Desafio 4\\csv-agent\\debug\\ATIVOS.xlsx\")\n",
    "\n",
    "df_ferias = pd.read_excel(r\"C:\\Users\\gpr\\Documents\\Projeto Agents\\Desafio 4\\csv-agent\\debug\\FÉRIAS.xlsx\")\n",
    "\n",
    "df_desligados = pd.read_excel(r\"C:\\Users\\gpr\\Documents\\Projeto Agents\\Desafio 4\\csv-agent\\debug\\DESLIGADOS.xlsx\")\n",
    "\n",
    "df_admitidos_mes = pd.read_excel(r\"C:\\Users\\gpr\\Documents\\Projeto Agents\\Desafio 4\\csv-agent\\debug\\ADMISSÃO ABRIL.xlsx\")\n",
    "\n",
    "df_sindicato_valor = pd.read_excel(r\"C:\\Users\\gpr\\Documents\\Projeto Agents\\Desafio 4\\csv-agent\\debug\\Base sindicato x valor.xlsx\")\n",
    "\n",
    "df_dias_uteis_colaborador = pd.read_excel(r\"C:\\Users\\gpr\\Documents\\Projeto Agents\\Desafio 4\\csv-agent\\debug\\Base dias uteis.xlsx\", skiprows=1)\n",
    "\n",
    "df_exterior = pd.read_excel(r\"C:\\Users\\gpr\\Documents\\Projeto Agents\\Desafio 4\\csv-agent\\debug\\EXTERIOR.xlsx\")\n",
    "\n",
    "df_afastamentos = pd.read_excel(r\"C:\\Users\\gpr\\Documents\\Projeto Agents\\Desafio 4\\csv-agent\\debug\\AFASTAMENTOS.xlsx\")\n"
   ]
  },
  {
   "cell_type": "markdown",
   "id": "53184da3",
   "metadata": {},
   "source": [
    "## Base única consolidada"
   ]
  },
  {
   "cell_type": "markdown",
   "id": "e5412332",
   "metadata": {},
   "source": [
    "### df_ativos"
   ]
  },
  {
   "cell_type": "code",
   "execution_count": 3592,
   "id": "f4e4282d",
   "metadata": {},
   "outputs": [
    {
     "name": "stdout",
     "output_type": "stream",
     "text": [
      "<class 'pandas.core.frame.DataFrame'>\n",
      "RangeIndex: 1815 entries, 0 to 1814\n",
      "Data columns (total 5 columns):\n",
      " #   Column           Non-Null Count  Dtype \n",
      "---  ------           --------------  ----- \n",
      " 0   MATRICULA        1815 non-null   int64 \n",
      " 1   EMPRESA          1815 non-null   int64 \n",
      " 2   TITULO DO CARGO  1815 non-null   object\n",
      " 3   DESC. SITUACAO   1815 non-null   object\n",
      " 4   Sindicato        1815 non-null   object\n",
      "dtypes: int64(2), object(3)\n",
      "memory usage: 71.0+ KB\n"
     ]
    }
   ],
   "source": [
    "df_ativos.info()"
   ]
  },
  {
   "cell_type": "code",
   "execution_count": 3593,
   "id": "b98d4031",
   "metadata": {},
   "outputs": [
    {
     "data": {
      "text/plain": [
       "TITULO DO CARGO\n",
       "ASSISTENTE DE BPO I                      499\n",
       "DESENVOLVEDOR III                        180\n",
       "ASSISTENTE DE BPO II                     134\n",
       "DESENVOLVEDOR II                         112\n",
       "LIDER DE BPO                              56\n",
       "                                        ... \n",
       "COORDENADOR CONTABIL-FISCAL                1\n",
       "ANALISTA DE COMERCIO EXTERIOR II           1\n",
       "ESPECIALISTA DE SISTEMAS E NEGOCIOS I      1\n",
       "ASSISTENTE CONTABIL-FISCAL                 1\n",
       "DEVELOPER II                               1\n",
       "Name: count, Length: 170, dtype: int64"
      ]
     },
     "execution_count": 3593,
     "metadata": {},
     "output_type": "execute_result"
    }
   ],
   "source": [
    "df_ativos[\"TITULO DO CARGO\"].value_counts()"
   ]
  },
  {
   "cell_type": "code",
   "execution_count": 3594,
   "id": "3454e34f",
   "metadata": {},
   "outputs": [
    {
     "data": {
      "text/html": [
       "<div>\n",
       "<style scoped>\n",
       "    .dataframe tbody tr th:only-of-type {\n",
       "        vertical-align: middle;\n",
       "    }\n",
       "\n",
       "    .dataframe tbody tr th {\n",
       "        vertical-align: top;\n",
       "    }\n",
       "\n",
       "    .dataframe thead th {\n",
       "        text-align: right;\n",
       "    }\n",
       "</style>\n",
       "<table border=\"1\" class=\"dataframe\">\n",
       "  <thead>\n",
       "    <tr style=\"text-align: right;\">\n",
       "      <th></th>\n",
       "      <th>MATRICULA</th>\n",
       "      <th>EMPRESA</th>\n",
       "      <th>TITULO DO CARGO</th>\n",
       "      <th>DESC. SITUACAO</th>\n",
       "      <th>Sindicato</th>\n",
       "    </tr>\n",
       "  </thead>\n",
       "  <tbody>\n",
       "    <tr>\n",
       "      <th>0</th>\n",
       "      <td>34941</td>\n",
       "      <td>1410</td>\n",
       "      <td>TECH RECRUITER II</td>\n",
       "      <td>Trabalhando</td>\n",
       "      <td>SINDPD SP - SIND.TRAB.EM PROC DADOS E EMPR.EMP...</td>\n",
       "    </tr>\n",
       "    <tr>\n",
       "      <th>1</th>\n",
       "      <td>24401</td>\n",
       "      <td>1410</td>\n",
       "      <td>COORDENADOR ADMINISTRATIVO</td>\n",
       "      <td>Trabalhando</td>\n",
       "      <td>SINDPPD RS - SINDICATO DOS TRAB. EM PROC. DE D...</td>\n",
       "    </tr>\n",
       "    <tr>\n",
       "      <th>2</th>\n",
       "      <td>32104</td>\n",
       "      <td>1410</td>\n",
       "      <td>ANALISTA CONTABIL-FISCAL II</td>\n",
       "      <td>Férias</td>\n",
       "      <td>SINDPPD RS - SINDICATO DOS TRAB. EM PROC. DE D...</td>\n",
       "    </tr>\n",
       "    <tr>\n",
       "      <th>3</th>\n",
       "      <td>35254</td>\n",
       "      <td>1410</td>\n",
       "      <td>ANALISTA CONTABIL-FISCAL II</td>\n",
       "      <td>Trabalhando</td>\n",
       "      <td>SINDPPD RS - SINDICATO DOS TRAB. EM PROC. DE D...</td>\n",
       "    </tr>\n",
       "    <tr>\n",
       "      <th>4</th>\n",
       "      <td>31731</td>\n",
       "      <td>1410</td>\n",
       "      <td>ANALISTA CONTABIL-FISCAL III</td>\n",
       "      <td>Trabalhando</td>\n",
       "      <td>SINDPPD RS - SINDICATO DOS TRAB. EM PROC. DE D...</td>\n",
       "    </tr>\n",
       "    <tr>\n",
       "      <th>...</th>\n",
       "      <td>...</td>\n",
       "      <td>...</td>\n",
       "      <td>...</td>\n",
       "      <td>...</td>\n",
       "      <td>...</td>\n",
       "    </tr>\n",
       "    <tr>\n",
       "      <th>1810</th>\n",
       "      <td>32050</td>\n",
       "      <td>1410</td>\n",
       "      <td>ANALISTA DE SISTEMAS E NEGOCIOS II</td>\n",
       "      <td>Trabalhando</td>\n",
       "      <td>SINDPPD RS - SINDICATO DOS TRAB. EM PROC. DE D...</td>\n",
       "    </tr>\n",
       "    <tr>\n",
       "      <th>1811</th>\n",
       "      <td>32549</td>\n",
       "      <td>1410</td>\n",
       "      <td>ANALISTA DE SISTEMAS E NEGOCIOS II</td>\n",
       "      <td>Trabalhando</td>\n",
       "      <td>SINDPPD RS - SINDICATO DOS TRAB. EM PROC. DE D...</td>\n",
       "    </tr>\n",
       "    <tr>\n",
       "      <th>1812</th>\n",
       "      <td>31372</td>\n",
       "      <td>1410</td>\n",
       "      <td>ANALISTA DE SISTEMAS E NEGOCIOS III</td>\n",
       "      <td>Trabalhando</td>\n",
       "      <td>SINDPPD RS - SINDICATO DOS TRAB. EM PROC. DE D...</td>\n",
       "    </tr>\n",
       "    <tr>\n",
       "      <th>1813</th>\n",
       "      <td>31573</td>\n",
       "      <td>1410</td>\n",
       "      <td>ANALISTA DE SISTEMAS E NEGOCIOS III</td>\n",
       "      <td>Trabalhando</td>\n",
       "      <td>SINDPPD RS - SINDICATO DOS TRAB. EM PROC. DE D...</td>\n",
       "    </tr>\n",
       "    <tr>\n",
       "      <th>1814</th>\n",
       "      <td>35194</td>\n",
       "      <td>1410</td>\n",
       "      <td>CIENTISTA DE DADOS III</td>\n",
       "      <td>Trabalhando</td>\n",
       "      <td>SINDPPD RS - SINDICATO DOS TRAB. EM PROC. DE D...</td>\n",
       "    </tr>\n",
       "  </tbody>\n",
       "</table>\n",
       "<p>1815 rows × 5 columns</p>\n",
       "</div>"
      ],
      "text/plain": [
       "      MATRICULA  EMPRESA                      TITULO DO CARGO DESC. SITUACAO  \\\n",
       "0         34941     1410                    TECH RECRUITER II    Trabalhando   \n",
       "1         24401     1410           COORDENADOR ADMINISTRATIVO    Trabalhando   \n",
       "2         32104     1410          ANALISTA CONTABIL-FISCAL II         Férias   \n",
       "3         35254     1410          ANALISTA CONTABIL-FISCAL II    Trabalhando   \n",
       "4         31731     1410         ANALISTA CONTABIL-FISCAL III    Trabalhando   \n",
       "...         ...      ...                                  ...            ...   \n",
       "1810      32050     1410   ANALISTA DE SISTEMAS E NEGOCIOS II    Trabalhando   \n",
       "1811      32549     1410   ANALISTA DE SISTEMAS E NEGOCIOS II    Trabalhando   \n",
       "1812      31372     1410  ANALISTA DE SISTEMAS E NEGOCIOS III    Trabalhando   \n",
       "1813      31573     1410  ANALISTA DE SISTEMAS E NEGOCIOS III    Trabalhando   \n",
       "1814      35194     1410               CIENTISTA DE DADOS III    Trabalhando   \n",
       "\n",
       "                                              Sindicato  \n",
       "0     SINDPD SP - SIND.TRAB.EM PROC DADOS E EMPR.EMP...  \n",
       "1     SINDPPD RS - SINDICATO DOS TRAB. EM PROC. DE D...  \n",
       "2     SINDPPD RS - SINDICATO DOS TRAB. EM PROC. DE D...  \n",
       "3     SINDPPD RS - SINDICATO DOS TRAB. EM PROC. DE D...  \n",
       "4     SINDPPD RS - SINDICATO DOS TRAB. EM PROC. DE D...  \n",
       "...                                                 ...  \n",
       "1810  SINDPPD RS - SINDICATO DOS TRAB. EM PROC. DE D...  \n",
       "1811  SINDPPD RS - SINDICATO DOS TRAB. EM PROC. DE D...  \n",
       "1812  SINDPPD RS - SINDICATO DOS TRAB. EM PROC. DE D...  \n",
       "1813  SINDPPD RS - SINDICATO DOS TRAB. EM PROC. DE D...  \n",
       "1814  SINDPPD RS - SINDICATO DOS TRAB. EM PROC. DE D...  \n",
       "\n",
       "[1815 rows x 5 columns]"
      ]
     },
     "execution_count": 3594,
     "metadata": {},
     "output_type": "execute_result"
    }
   ],
   "source": [
    "df_ativos"
   ]
  },
  {
   "cell_type": "markdown",
   "id": "4430e598",
   "metadata": {},
   "source": [
    "### df_ferias"
   ]
  },
  {
   "cell_type": "code",
   "execution_count": 3595,
   "id": "de6d6463",
   "metadata": {},
   "outputs": [
    {
     "data": {
      "text/plain": [
       "Index(['MATRICULA', 'EMPRESA', 'TITULO DO CARGO', 'DESC. SITUACAO',\n",
       "       'Sindicato'],\n",
       "      dtype='object')"
      ]
     },
     "execution_count": 3595,
     "metadata": {},
     "output_type": "execute_result"
    }
   ],
   "source": [
    "df_ativos.columns"
   ]
  },
  {
   "cell_type": "code",
   "execution_count": 3596,
   "id": "3d84bb66",
   "metadata": {},
   "outputs": [
    {
     "data": {
      "text/plain": [
       "Index(['MATRICULA', 'DESC. SITUACAO', 'DIAS DE FÉRIAS'], dtype='object')"
      ]
     },
     "execution_count": 3596,
     "metadata": {},
     "output_type": "execute_result"
    }
   ],
   "source": [
    "df_ferias.columns"
   ]
  },
  {
   "cell_type": "code",
   "execution_count": 3597,
   "id": "bd478301",
   "metadata": {},
   "outputs": [],
   "source": [
    "df_final = df_ativos.merge(df_ferias, on= [\"MATRICULA\", \"DESC. SITUACAO\"], how=\"left\")"
   ]
  },
  {
   "cell_type": "code",
   "execution_count": 3598,
   "id": "dd77fbec",
   "metadata": {},
   "outputs": [
    {
     "name": "stdout",
     "output_type": "stream",
     "text": [
      "<class 'pandas.core.frame.DataFrame'>\n",
      "RangeIndex: 1815 entries, 0 to 1814\n",
      "Data columns (total 6 columns):\n",
      " #   Column           Non-Null Count  Dtype  \n",
      "---  ------           --------------  -----  \n",
      " 0   MATRICULA        1815 non-null   int64  \n",
      " 1   EMPRESA          1815 non-null   int64  \n",
      " 2   TITULO DO CARGO  1815 non-null   object \n",
      " 3   DESC. SITUACAO   1815 non-null   object \n",
      " 4   Sindicato        1815 non-null   object \n",
      " 5   DIAS DE FÉRIAS   76 non-null     float64\n",
      "dtypes: float64(1), int64(2), object(3)\n",
      "memory usage: 85.2+ KB\n"
     ]
    }
   ],
   "source": [
    "df_final.info()"
   ]
  },
  {
   "cell_type": "markdown",
   "id": "69c7edf3",
   "metadata": {},
   "source": [
    "Agora possuímos valores nulos para DIAS DE FÉRIAS, precisamos preencher"
   ]
  },
  {
   "cell_type": "code",
   "execution_count": 3599,
   "id": "2cc59c49",
   "metadata": {},
   "outputs": [],
   "source": [
    "df_final[\"DIAS DE FÉRIAS\"] = df_final[\"DIAS DE FÉRIAS\"].fillna(0)"
   ]
  },
  {
   "cell_type": "markdown",
   "id": "0439575f",
   "metadata": {},
   "source": [
    "### df_desligados"
   ]
  },
  {
   "cell_type": "code",
   "execution_count": 3600,
   "id": "4750c618",
   "metadata": {},
   "outputs": [
    {
     "data": {
      "text/html": [
       "<div>\n",
       "<style scoped>\n",
       "    .dataframe tbody tr th:only-of-type {\n",
       "        vertical-align: middle;\n",
       "    }\n",
       "\n",
       "    .dataframe tbody tr th {\n",
       "        vertical-align: top;\n",
       "    }\n",
       "\n",
       "    .dataframe thead th {\n",
       "        text-align: right;\n",
       "    }\n",
       "</style>\n",
       "<table border=\"1\" class=\"dataframe\">\n",
       "  <thead>\n",
       "    <tr style=\"text-align: right;\">\n",
       "      <th></th>\n",
       "      <th>MATRICULA</th>\n",
       "      <th>DATA DEMISSÃO</th>\n",
       "      <th>COMUNICADO DE DESLIGAMENTO</th>\n",
       "    </tr>\n",
       "  </thead>\n",
       "  <tbody>\n",
       "    <tr>\n",
       "      <th>0</th>\n",
       "      <td>34706</td>\n",
       "      <td>2025-05-01</td>\n",
       "      <td>OK</td>\n",
       "    </tr>\n",
       "    <tr>\n",
       "      <th>1</th>\n",
       "      <td>31486</td>\n",
       "      <td>2025-05-01</td>\n",
       "      <td>OK</td>\n",
       "    </tr>\n",
       "    <tr>\n",
       "      <th>2</th>\n",
       "      <td>34641</td>\n",
       "      <td>2025-05-01</td>\n",
       "      <td>OK</td>\n",
       "    </tr>\n",
       "    <tr>\n",
       "      <th>3</th>\n",
       "      <td>26139</td>\n",
       "      <td>2025-05-02</td>\n",
       "      <td>OK</td>\n",
       "    </tr>\n",
       "    <tr>\n",
       "      <th>4</th>\n",
       "      <td>34179</td>\n",
       "      <td>2025-05-04</td>\n",
       "      <td>OK</td>\n",
       "    </tr>\n",
       "    <tr>\n",
       "      <th>5</th>\n",
       "      <td>33482</td>\n",
       "      <td>2025-05-04</td>\n",
       "      <td>OK</td>\n",
       "    </tr>\n",
       "    <tr>\n",
       "      <th>6</th>\n",
       "      <td>33492</td>\n",
       "      <td>2025-05-04</td>\n",
       "      <td>NaN</td>\n",
       "    </tr>\n",
       "    <tr>\n",
       "      <th>7</th>\n",
       "      <td>33627</td>\n",
       "      <td>2025-05-07</td>\n",
       "      <td>OK</td>\n",
       "    </tr>\n",
       "    <tr>\n",
       "      <th>8</th>\n",
       "      <td>33404</td>\n",
       "      <td>2025-05-04</td>\n",
       "      <td>OK</td>\n",
       "    </tr>\n",
       "    <tr>\n",
       "      <th>9</th>\n",
       "      <td>33922</td>\n",
       "      <td>2025-05-08</td>\n",
       "      <td>OK</td>\n",
       "    </tr>\n",
       "    <tr>\n",
       "      <th>10</th>\n",
       "      <td>25707</td>\n",
       "      <td>2025-05-09</td>\n",
       "      <td>OK</td>\n",
       "    </tr>\n",
       "    <tr>\n",
       "      <th>11</th>\n",
       "      <td>34935</td>\n",
       "      <td>2025-05-10</td>\n",
       "      <td>OK</td>\n",
       "    </tr>\n",
       "    <tr>\n",
       "      <th>12</th>\n",
       "      <td>33989</td>\n",
       "      <td>2025-05-11</td>\n",
       "      <td>OK</td>\n",
       "    </tr>\n",
       "    <tr>\n",
       "      <th>13</th>\n",
       "      <td>29294</td>\n",
       "      <td>2025-05-11</td>\n",
       "      <td>OK</td>\n",
       "    </tr>\n",
       "    <tr>\n",
       "      <th>14</th>\n",
       "      <td>31394</td>\n",
       "      <td>2025-05-16</td>\n",
       "      <td>OK</td>\n",
       "    </tr>\n",
       "    <tr>\n",
       "      <th>15</th>\n",
       "      <td>25670</td>\n",
       "      <td>2025-05-15</td>\n",
       "      <td>OK</td>\n",
       "    </tr>\n",
       "    <tr>\n",
       "      <th>16</th>\n",
       "      <td>34387</td>\n",
       "      <td>2025-05-15</td>\n",
       "      <td>OK</td>\n",
       "    </tr>\n",
       "    <tr>\n",
       "      <th>17</th>\n",
       "      <td>33711</td>\n",
       "      <td>2025-05-17</td>\n",
       "      <td>OK</td>\n",
       "    </tr>\n",
       "    <tr>\n",
       "      <th>18</th>\n",
       "      <td>34819</td>\n",
       "      <td>2025-05-16</td>\n",
       "      <td>OK</td>\n",
       "    </tr>\n",
       "    <tr>\n",
       "      <th>19</th>\n",
       "      <td>35474</td>\n",
       "      <td>2025-05-17</td>\n",
       "      <td>OK</td>\n",
       "    </tr>\n",
       "    <tr>\n",
       "      <th>20</th>\n",
       "      <td>33835</td>\n",
       "      <td>2025-05-17</td>\n",
       "      <td>OK</td>\n",
       "    </tr>\n",
       "    <tr>\n",
       "      <th>21</th>\n",
       "      <td>35161</td>\n",
       "      <td>2025-05-05</td>\n",
       "      <td>OK</td>\n",
       "    </tr>\n",
       "    <tr>\n",
       "      <th>22</th>\n",
       "      <td>35270</td>\n",
       "      <td>2025-05-02</td>\n",
       "      <td>OK</td>\n",
       "    </tr>\n",
       "    <tr>\n",
       "      <th>23</th>\n",
       "      <td>31019</td>\n",
       "      <td>2025-05-06</td>\n",
       "      <td>OK</td>\n",
       "    </tr>\n",
       "    <tr>\n",
       "      <th>24</th>\n",
       "      <td>31889</td>\n",
       "      <td>2025-05-05</td>\n",
       "      <td>OK</td>\n",
       "    </tr>\n",
       "    <tr>\n",
       "      <th>25</th>\n",
       "      <td>35575</td>\n",
       "      <td>2025-05-04</td>\n",
       "      <td>OK</td>\n",
       "    </tr>\n",
       "    <tr>\n",
       "      <th>26</th>\n",
       "      <td>34721</td>\n",
       "      <td>2025-05-02</td>\n",
       "      <td>OK</td>\n",
       "    </tr>\n",
       "    <tr>\n",
       "      <th>27</th>\n",
       "      <td>35554</td>\n",
       "      <td>2025-05-03</td>\n",
       "      <td>OK</td>\n",
       "    </tr>\n",
       "    <tr>\n",
       "      <th>28</th>\n",
       "      <td>35569</td>\n",
       "      <td>2025-05-03</td>\n",
       "      <td>OK</td>\n",
       "    </tr>\n",
       "    <tr>\n",
       "      <th>29</th>\n",
       "      <td>31880</td>\n",
       "      <td>2025-05-27</td>\n",
       "      <td>OK</td>\n",
       "    </tr>\n",
       "    <tr>\n",
       "      <th>30</th>\n",
       "      <td>34841</td>\n",
       "      <td>2025-05-07</td>\n",
       "      <td>OK</td>\n",
       "    </tr>\n",
       "    <tr>\n",
       "      <th>31</th>\n",
       "      <td>34534</td>\n",
       "      <td>2025-05-29</td>\n",
       "      <td>NaN</td>\n",
       "    </tr>\n",
       "    <tr>\n",
       "      <th>32</th>\n",
       "      <td>35664</td>\n",
       "      <td>2025-05-02</td>\n",
       "      <td>OK</td>\n",
       "    </tr>\n",
       "    <tr>\n",
       "      <th>33</th>\n",
       "      <td>35589</td>\n",
       "      <td>2025-05-02</td>\n",
       "      <td>OK</td>\n",
       "    </tr>\n",
       "    <tr>\n",
       "      <th>34</th>\n",
       "      <td>32946</td>\n",
       "      <td>2025-05-02</td>\n",
       "      <td>OK</td>\n",
       "    </tr>\n",
       "    <tr>\n",
       "      <th>35</th>\n",
       "      <td>27226</td>\n",
       "      <td>2025-05-29</td>\n",
       "      <td>OK</td>\n",
       "    </tr>\n",
       "    <tr>\n",
       "      <th>36</th>\n",
       "      <td>34417</td>\n",
       "      <td>2025-05-02</td>\n",
       "      <td>OK</td>\n",
       "    </tr>\n",
       "    <tr>\n",
       "      <th>37</th>\n",
       "      <td>34924</td>\n",
       "      <td>2025-05-02</td>\n",
       "      <td>OK</td>\n",
       "    </tr>\n",
       "    <tr>\n",
       "      <th>38</th>\n",
       "      <td>33417</td>\n",
       "      <td>2025-05-05</td>\n",
       "      <td>OK</td>\n",
       "    </tr>\n",
       "    <tr>\n",
       "      <th>39</th>\n",
       "      <td>34477</td>\n",
       "      <td>2025-05-01</td>\n",
       "      <td>NaN</td>\n",
       "    </tr>\n",
       "    <tr>\n",
       "      <th>40</th>\n",
       "      <td>34884</td>\n",
       "      <td>2025-05-18</td>\n",
       "      <td>OK</td>\n",
       "    </tr>\n",
       "    <tr>\n",
       "      <th>41</th>\n",
       "      <td>35558</td>\n",
       "      <td>2025-05-03</td>\n",
       "      <td>OK</td>\n",
       "    </tr>\n",
       "    <tr>\n",
       "      <th>42</th>\n",
       "      <td>30130</td>\n",
       "      <td>2025-05-02</td>\n",
       "      <td>OK</td>\n",
       "    </tr>\n",
       "    <tr>\n",
       "      <th>43</th>\n",
       "      <td>32636</td>\n",
       "      <td>2025-05-02</td>\n",
       "      <td>OK</td>\n",
       "    </tr>\n",
       "    <tr>\n",
       "      <th>44</th>\n",
       "      <td>35564</td>\n",
       "      <td>2025-05-03</td>\n",
       "      <td>OK</td>\n",
       "    </tr>\n",
       "    <tr>\n",
       "      <th>45</th>\n",
       "      <td>30673</td>\n",
       "      <td>2025-05-14</td>\n",
       "      <td>OK</td>\n",
       "    </tr>\n",
       "    <tr>\n",
       "      <th>46</th>\n",
       "      <td>35162</td>\n",
       "      <td>2025-05-02</td>\n",
       "      <td>OK</td>\n",
       "    </tr>\n",
       "    <tr>\n",
       "      <th>47</th>\n",
       "      <td>33428</td>\n",
       "      <td>2025-05-02</td>\n",
       "      <td>OK</td>\n",
       "    </tr>\n",
       "    <tr>\n",
       "      <th>48</th>\n",
       "      <td>31314</td>\n",
       "      <td>2025-05-08</td>\n",
       "      <td>NaN</td>\n",
       "    </tr>\n",
       "    <tr>\n",
       "      <th>49</th>\n",
       "      <td>34785</td>\n",
       "      <td>2025-05-05</td>\n",
       "      <td>OK</td>\n",
       "    </tr>\n",
       "    <tr>\n",
       "      <th>50</th>\n",
       "      <td>32533</td>\n",
       "      <td>2025-05-02</td>\n",
       "      <td>OK</td>\n",
       "    </tr>\n",
       "  </tbody>\n",
       "</table>\n",
       "</div>"
      ],
      "text/plain": [
       "    MATRICULA  DATA DEMISSÃO COMUNICADO DE DESLIGAMENTO\n",
       "0        34706    2025-05-01                         OK\n",
       "1        31486    2025-05-01                         OK\n",
       "2        34641    2025-05-01                         OK\n",
       "3        26139    2025-05-02                         OK\n",
       "4        34179    2025-05-04                         OK\n",
       "5        33482    2025-05-04                         OK\n",
       "6        33492    2025-05-04                        NaN\n",
       "7        33627    2025-05-07                         OK\n",
       "8        33404    2025-05-04                         OK\n",
       "9        33922    2025-05-08                         OK\n",
       "10       25707    2025-05-09                         OK\n",
       "11       34935    2025-05-10                         OK\n",
       "12       33989    2025-05-11                         OK\n",
       "13       29294    2025-05-11                         OK\n",
       "14       31394    2025-05-16                         OK\n",
       "15       25670    2025-05-15                         OK\n",
       "16       34387    2025-05-15                         OK\n",
       "17       33711    2025-05-17                         OK\n",
       "18       34819    2025-05-16                         OK\n",
       "19       35474    2025-05-17                         OK\n",
       "20       33835    2025-05-17                         OK\n",
       "21       35161    2025-05-05                         OK\n",
       "22       35270    2025-05-02                         OK\n",
       "23       31019    2025-05-06                         OK\n",
       "24       31889    2025-05-05                         OK\n",
       "25       35575    2025-05-04                         OK\n",
       "26       34721    2025-05-02                         OK\n",
       "27       35554    2025-05-03                         OK\n",
       "28       35569    2025-05-03                         OK\n",
       "29       31880    2025-05-27                         OK\n",
       "30       34841    2025-05-07                         OK\n",
       "31       34534    2025-05-29                        NaN\n",
       "32       35664    2025-05-02                         OK\n",
       "33       35589    2025-05-02                         OK\n",
       "34       32946    2025-05-02                         OK\n",
       "35       27226    2025-05-29                         OK\n",
       "36       34417    2025-05-02                         OK\n",
       "37       34924    2025-05-02                         OK\n",
       "38       33417    2025-05-05                         OK\n",
       "39       34477    2025-05-01                        NaN\n",
       "40       34884    2025-05-18                         OK\n",
       "41       35558    2025-05-03                         OK\n",
       "42       30130    2025-05-02                         OK\n",
       "43       32636    2025-05-02                         OK\n",
       "44       35564    2025-05-03                         OK\n",
       "45       30673    2025-05-14                         OK\n",
       "46       35162    2025-05-02                         OK\n",
       "47       33428    2025-05-02                         OK\n",
       "48       31314    2025-05-08                        NaN\n",
       "49       34785    2025-05-05                         OK\n",
       "50       32533    2025-05-02                         OK"
      ]
     },
     "execution_count": 3600,
     "metadata": {},
     "output_type": "execute_result"
    }
   ],
   "source": [
    "df_desligados"
   ]
  },
  {
   "cell_type": "code",
   "execution_count": 3601,
   "id": "ff0c385b",
   "metadata": {},
   "outputs": [
    {
     "name": "stdout",
     "output_type": "stream",
     "text": [
      "<class 'pandas.core.frame.DataFrame'>\n",
      "RangeIndex: 51 entries, 0 to 50\n",
      "Data columns (total 3 columns):\n",
      " #   Column                      Non-Null Count  Dtype         \n",
      "---  ------                      --------------  -----         \n",
      " 0   MATRICULA                   51 non-null     int64         \n",
      " 1   DATA DEMISSÃO               51 non-null     datetime64[ns]\n",
      " 2   COMUNICADO DE DESLIGAMENTO  47 non-null     object        \n",
      "dtypes: datetime64[ns](1), int64(1), object(1)\n",
      "memory usage: 1.3+ KB\n"
     ]
    }
   ],
   "source": [
    "df_desligados.info()"
   ]
  },
  {
   "cell_type": "code",
   "execution_count": 3602,
   "id": "41522630",
   "metadata": {},
   "outputs": [
    {
     "data": {
      "text/html": [
       "<div>\n",
       "<style scoped>\n",
       "    .dataframe tbody tr th:only-of-type {\n",
       "        vertical-align: middle;\n",
       "    }\n",
       "\n",
       "    .dataframe tbody tr th {\n",
       "        vertical-align: top;\n",
       "    }\n",
       "\n",
       "    .dataframe thead th {\n",
       "        text-align: right;\n",
       "    }\n",
       "</style>\n",
       "<table border=\"1\" class=\"dataframe\">\n",
       "  <thead>\n",
       "    <tr style=\"text-align: right;\">\n",
       "      <th></th>\n",
       "      <th>MATRICULA</th>\n",
       "      <th>DATA DEMISSÃO</th>\n",
       "    </tr>\n",
       "  </thead>\n",
       "  <tbody>\n",
       "    <tr>\n",
       "      <th>count</th>\n",
       "      <td>51.000000</td>\n",
       "      <td>51</td>\n",
       "    </tr>\n",
       "    <tr>\n",
       "      <th>mean</th>\n",
       "      <td>33208.490196</td>\n",
       "      <td>2025-05-07 15:03:31.764705792</td>\n",
       "    </tr>\n",
       "    <tr>\n",
       "      <th>min</th>\n",
       "      <td>25670.000000</td>\n",
       "      <td>2025-05-01 00:00:00</td>\n",
       "    </tr>\n",
       "    <tr>\n",
       "      <th>25%</th>\n",
       "      <td>32211.000000</td>\n",
       "      <td>2025-05-02 00:00:00</td>\n",
       "    </tr>\n",
       "    <tr>\n",
       "      <th>50%</th>\n",
       "      <td>33989.000000</td>\n",
       "      <td>2025-05-04 00:00:00</td>\n",
       "    </tr>\n",
       "    <tr>\n",
       "      <th>75%</th>\n",
       "      <td>34904.000000</td>\n",
       "      <td>2025-05-11 00:00:00</td>\n",
       "    </tr>\n",
       "    <tr>\n",
       "      <th>max</th>\n",
       "      <td>35664.000000</td>\n",
       "      <td>2025-05-29 00:00:00</td>\n",
       "    </tr>\n",
       "    <tr>\n",
       "      <th>std</th>\n",
       "      <td>2599.951879</td>\n",
       "      <td>NaN</td>\n",
       "    </tr>\n",
       "  </tbody>\n",
       "</table>\n",
       "</div>"
      ],
      "text/plain": [
       "         MATRICULA                   DATA DEMISSÃO\n",
       "count     51.000000                             51\n",
       "mean   33208.490196  2025-05-07 15:03:31.764705792\n",
       "min    25670.000000            2025-05-01 00:00:00\n",
       "25%    32211.000000            2025-05-02 00:00:00\n",
       "50%    33989.000000            2025-05-04 00:00:00\n",
       "75%    34904.000000            2025-05-11 00:00:00\n",
       "max    35664.000000            2025-05-29 00:00:00\n",
       "std     2599.951879                            NaN"
      ]
     },
     "execution_count": 3602,
     "metadata": {},
     "output_type": "execute_result"
    }
   ],
   "source": [
    "df_desligados.describe()"
   ]
  },
  {
   "cell_type": "markdown",
   "id": "b25364e6",
   "metadata": {},
   "source": [
    "A coluna COMUNICADO DE DESLIGAMENTO possui alguns nulos, mas não tem problema, a interpretação é que simplesmente não houve comunicado (demissões sem aviso prévio, talvez)\n",
    "\n",
    "Bom guardar essa informação pra depois, caso necessário \n",
    "\n",
    "Agora unindo com a tabela final. Mas validando se o nosso merge não gerou colunas. "
   ]
  },
  {
   "cell_type": "code",
   "execution_count": 3603,
   "id": "364be12d",
   "metadata": {},
   "outputs": [
    {
     "data": {
      "text/plain": [
       "True"
      ]
     },
     "execution_count": 3603,
     "metadata": {},
     "output_type": "execute_result"
    }
   ],
   "source": [
    "len(df_final) == len(df_ativos)"
   ]
  },
  {
   "cell_type": "code",
   "execution_count": 3604,
   "id": "d1266af3",
   "metadata": {},
   "outputs": [
    {
     "data": {
      "text/plain": [
       "Index(['MATRICULA', 'EMPRESA', 'TITULO DO CARGO', 'DESC. SITUACAO',\n",
       "       'Sindicato', 'DIAS DE FÉRIAS'],\n",
       "      dtype='object')"
      ]
     },
     "execution_count": 3604,
     "metadata": {},
     "output_type": "execute_result"
    }
   ],
   "source": [
    "df_final.columns"
   ]
  },
  {
   "cell_type": "code",
   "execution_count": 3605,
   "id": "caa75197",
   "metadata": {},
   "outputs": [
    {
     "data": {
      "text/plain": [
       "Index(['MATRICULA ', 'DATA DEMISSÃO', 'COMUNICADO DE DESLIGAMENTO'], dtype='object')"
      ]
     },
     "execution_count": 3605,
     "metadata": {},
     "output_type": "execute_result"
    }
   ],
   "source": [
    "df_desligados.columns"
   ]
  },
  {
   "cell_type": "markdown",
   "id": "f2722e1c",
   "metadata": {},
   "source": [
    "df_desligados tem um problema no nome da coluna, foi identificado um espaço que inviabiliza a união das tabelas por essa chave. \n",
    "\n",
    "Corrigindo o problema via código"
   ]
  },
  {
   "cell_type": "code",
   "execution_count": 3606,
   "id": "dbf5e053",
   "metadata": {},
   "outputs": [],
   "source": [
    "df_desligados.columns = df_desligados.columns.str.strip()"
   ]
  },
  {
   "cell_type": "markdown",
   "id": "f24ed26c",
   "metadata": {},
   "source": [
    "Verificando se o merge é possível"
   ]
  },
  {
   "cell_type": "code",
   "execution_count": 3607,
   "id": "965c3fed",
   "metadata": {},
   "outputs": [
    {
     "data": {
      "text/plain": [
       "True"
      ]
     },
     "execution_count": 3607,
     "metadata": {},
     "output_type": "execute_result"
    }
   ],
   "source": [
    "len(df_final.merge(df_desligados, on = \"MATRICULA\", how=\"left\")) == len(df_final)"
   ]
  },
  {
   "cell_type": "code",
   "execution_count": 3608,
   "id": "8bbcc435",
   "metadata": {},
   "outputs": [],
   "source": [
    "df_final = df_final.merge(df_desligados, on = \"MATRICULA\", how=\"left\")"
   ]
  },
  {
   "cell_type": "code",
   "execution_count": 3609,
   "id": "f3b7b3e1",
   "metadata": {},
   "outputs": [
    {
     "data": {
      "text/html": [
       "<div>\n",
       "<style scoped>\n",
       "    .dataframe tbody tr th:only-of-type {\n",
       "        vertical-align: middle;\n",
       "    }\n",
       "\n",
       "    .dataframe tbody tr th {\n",
       "        vertical-align: top;\n",
       "    }\n",
       "\n",
       "    .dataframe thead th {\n",
       "        text-align: right;\n",
       "    }\n",
       "</style>\n",
       "<table border=\"1\" class=\"dataframe\">\n",
       "  <thead>\n",
       "    <tr style=\"text-align: right;\">\n",
       "      <th></th>\n",
       "      <th>MATRICULA</th>\n",
       "      <th>EMPRESA</th>\n",
       "      <th>TITULO DO CARGO</th>\n",
       "      <th>DESC. SITUACAO</th>\n",
       "      <th>Sindicato</th>\n",
       "      <th>DIAS DE FÉRIAS</th>\n",
       "      <th>DATA DEMISSÃO</th>\n",
       "      <th>COMUNICADO DE DESLIGAMENTO</th>\n",
       "    </tr>\n",
       "  </thead>\n",
       "  <tbody>\n",
       "    <tr>\n",
       "      <th>0</th>\n",
       "      <td>34941</td>\n",
       "      <td>1410</td>\n",
       "      <td>TECH RECRUITER II</td>\n",
       "      <td>Trabalhando</td>\n",
       "      <td>SINDPD SP - SIND.TRAB.EM PROC DADOS E EMPR.EMP...</td>\n",
       "      <td>0.0</td>\n",
       "      <td>NaT</td>\n",
       "      <td>NaN</td>\n",
       "    </tr>\n",
       "    <tr>\n",
       "      <th>1</th>\n",
       "      <td>24401</td>\n",
       "      <td>1410</td>\n",
       "      <td>COORDENADOR ADMINISTRATIVO</td>\n",
       "      <td>Trabalhando</td>\n",
       "      <td>SINDPPD RS - SINDICATO DOS TRAB. EM PROC. DE D...</td>\n",
       "      <td>0.0</td>\n",
       "      <td>NaT</td>\n",
       "      <td>NaN</td>\n",
       "    </tr>\n",
       "    <tr>\n",
       "      <th>2</th>\n",
       "      <td>32104</td>\n",
       "      <td>1410</td>\n",
       "      <td>ANALISTA CONTABIL-FISCAL II</td>\n",
       "      <td>Férias</td>\n",
       "      <td>SINDPPD RS - SINDICATO DOS TRAB. EM PROC. DE D...</td>\n",
       "      <td>10.0</td>\n",
       "      <td>NaT</td>\n",
       "      <td>NaN</td>\n",
       "    </tr>\n",
       "    <tr>\n",
       "      <th>3</th>\n",
       "      <td>35254</td>\n",
       "      <td>1410</td>\n",
       "      <td>ANALISTA CONTABIL-FISCAL II</td>\n",
       "      <td>Trabalhando</td>\n",
       "      <td>SINDPPD RS - SINDICATO DOS TRAB. EM PROC. DE D...</td>\n",
       "      <td>0.0</td>\n",
       "      <td>NaT</td>\n",
       "      <td>NaN</td>\n",
       "    </tr>\n",
       "    <tr>\n",
       "      <th>4</th>\n",
       "      <td>31731</td>\n",
       "      <td>1410</td>\n",
       "      <td>ANALISTA CONTABIL-FISCAL III</td>\n",
       "      <td>Trabalhando</td>\n",
       "      <td>SINDPPD RS - SINDICATO DOS TRAB. EM PROC. DE D...</td>\n",
       "      <td>0.0</td>\n",
       "      <td>NaT</td>\n",
       "      <td>NaN</td>\n",
       "    </tr>\n",
       "    <tr>\n",
       "      <th>...</th>\n",
       "      <td>...</td>\n",
       "      <td>...</td>\n",
       "      <td>...</td>\n",
       "      <td>...</td>\n",
       "      <td>...</td>\n",
       "      <td>...</td>\n",
       "      <td>...</td>\n",
       "      <td>...</td>\n",
       "    </tr>\n",
       "    <tr>\n",
       "      <th>1810</th>\n",
       "      <td>32050</td>\n",
       "      <td>1410</td>\n",
       "      <td>ANALISTA DE SISTEMAS E NEGOCIOS II</td>\n",
       "      <td>Trabalhando</td>\n",
       "      <td>SINDPPD RS - SINDICATO DOS TRAB. EM PROC. DE D...</td>\n",
       "      <td>0.0</td>\n",
       "      <td>NaT</td>\n",
       "      <td>NaN</td>\n",
       "    </tr>\n",
       "    <tr>\n",
       "      <th>1811</th>\n",
       "      <td>32549</td>\n",
       "      <td>1410</td>\n",
       "      <td>ANALISTA DE SISTEMAS E NEGOCIOS II</td>\n",
       "      <td>Trabalhando</td>\n",
       "      <td>SINDPPD RS - SINDICATO DOS TRAB. EM PROC. DE D...</td>\n",
       "      <td>0.0</td>\n",
       "      <td>NaT</td>\n",
       "      <td>NaN</td>\n",
       "    </tr>\n",
       "    <tr>\n",
       "      <th>1812</th>\n",
       "      <td>31372</td>\n",
       "      <td>1410</td>\n",
       "      <td>ANALISTA DE SISTEMAS E NEGOCIOS III</td>\n",
       "      <td>Trabalhando</td>\n",
       "      <td>SINDPPD RS - SINDICATO DOS TRAB. EM PROC. DE D...</td>\n",
       "      <td>0.0</td>\n",
       "      <td>NaT</td>\n",
       "      <td>NaN</td>\n",
       "    </tr>\n",
       "    <tr>\n",
       "      <th>1813</th>\n",
       "      <td>31573</td>\n",
       "      <td>1410</td>\n",
       "      <td>ANALISTA DE SISTEMAS E NEGOCIOS III</td>\n",
       "      <td>Trabalhando</td>\n",
       "      <td>SINDPPD RS - SINDICATO DOS TRAB. EM PROC. DE D...</td>\n",
       "      <td>0.0</td>\n",
       "      <td>NaT</td>\n",
       "      <td>NaN</td>\n",
       "    </tr>\n",
       "    <tr>\n",
       "      <th>1814</th>\n",
       "      <td>35194</td>\n",
       "      <td>1410</td>\n",
       "      <td>CIENTISTA DE DADOS III</td>\n",
       "      <td>Trabalhando</td>\n",
       "      <td>SINDPPD RS - SINDICATO DOS TRAB. EM PROC. DE D...</td>\n",
       "      <td>0.0</td>\n",
       "      <td>NaT</td>\n",
       "      <td>NaN</td>\n",
       "    </tr>\n",
       "  </tbody>\n",
       "</table>\n",
       "<p>1815 rows × 8 columns</p>\n",
       "</div>"
      ],
      "text/plain": [
       "      MATRICULA  EMPRESA                      TITULO DO CARGO DESC. SITUACAO  \\\n",
       "0         34941     1410                    TECH RECRUITER II    Trabalhando   \n",
       "1         24401     1410           COORDENADOR ADMINISTRATIVO    Trabalhando   \n",
       "2         32104     1410          ANALISTA CONTABIL-FISCAL II         Férias   \n",
       "3         35254     1410          ANALISTA CONTABIL-FISCAL II    Trabalhando   \n",
       "4         31731     1410         ANALISTA CONTABIL-FISCAL III    Trabalhando   \n",
       "...         ...      ...                                  ...            ...   \n",
       "1810      32050     1410   ANALISTA DE SISTEMAS E NEGOCIOS II    Trabalhando   \n",
       "1811      32549     1410   ANALISTA DE SISTEMAS E NEGOCIOS II    Trabalhando   \n",
       "1812      31372     1410  ANALISTA DE SISTEMAS E NEGOCIOS III    Trabalhando   \n",
       "1813      31573     1410  ANALISTA DE SISTEMAS E NEGOCIOS III    Trabalhando   \n",
       "1814      35194     1410               CIENTISTA DE DADOS III    Trabalhando   \n",
       "\n",
       "                                              Sindicato  DIAS DE FÉRIAS  \\\n",
       "0     SINDPD SP - SIND.TRAB.EM PROC DADOS E EMPR.EMP...             0.0   \n",
       "1     SINDPPD RS - SINDICATO DOS TRAB. EM PROC. DE D...             0.0   \n",
       "2     SINDPPD RS - SINDICATO DOS TRAB. EM PROC. DE D...            10.0   \n",
       "3     SINDPPD RS - SINDICATO DOS TRAB. EM PROC. DE D...             0.0   \n",
       "4     SINDPPD RS - SINDICATO DOS TRAB. EM PROC. DE D...             0.0   \n",
       "...                                                 ...             ...   \n",
       "1810  SINDPPD RS - SINDICATO DOS TRAB. EM PROC. DE D...             0.0   \n",
       "1811  SINDPPD RS - SINDICATO DOS TRAB. EM PROC. DE D...             0.0   \n",
       "1812  SINDPPD RS - SINDICATO DOS TRAB. EM PROC. DE D...             0.0   \n",
       "1813  SINDPPD RS - SINDICATO DOS TRAB. EM PROC. DE D...             0.0   \n",
       "1814  SINDPPD RS - SINDICATO DOS TRAB. EM PROC. DE D...             0.0   \n",
       "\n",
       "     DATA DEMISSÃO COMUNICADO DE DESLIGAMENTO  \n",
       "0              NaT                        NaN  \n",
       "1              NaT                        NaN  \n",
       "2              NaT                        NaN  \n",
       "3              NaT                        NaN  \n",
       "4              NaT                        NaN  \n",
       "...            ...                        ...  \n",
       "1810           NaT                        NaN  \n",
       "1811           NaT                        NaN  \n",
       "1812           NaT                        NaN  \n",
       "1813           NaT                        NaN  \n",
       "1814           NaT                        NaN  \n",
       "\n",
       "[1815 rows x 8 columns]"
      ]
     },
     "execution_count": 3609,
     "metadata": {},
     "output_type": "execute_result"
    }
   ],
   "source": [
    "df_final"
   ]
  },
  {
   "cell_type": "markdown",
   "id": "dfee5fc2",
   "metadata": {},
   "source": [
    "### df_admitidos_mes"
   ]
  },
  {
   "cell_type": "code",
   "execution_count": 3610,
   "id": "5736a8d3",
   "metadata": {},
   "outputs": [
    {
     "data": {
      "text/html": [
       "<div>\n",
       "<style scoped>\n",
       "    .dataframe tbody tr th:only-of-type {\n",
       "        vertical-align: middle;\n",
       "    }\n",
       "\n",
       "    .dataframe tbody tr th {\n",
       "        vertical-align: top;\n",
       "    }\n",
       "\n",
       "    .dataframe thead th {\n",
       "        text-align: right;\n",
       "    }\n",
       "</style>\n",
       "<table border=\"1\" class=\"dataframe\">\n",
       "  <thead>\n",
       "    <tr style=\"text-align: right;\">\n",
       "      <th></th>\n",
       "      <th>MATRICULA</th>\n",
       "      <th>Admissão</th>\n",
       "      <th>Cargo</th>\n",
       "      <th>Unnamed: 3</th>\n",
       "    </tr>\n",
       "  </thead>\n",
       "  <tbody>\n",
       "    <tr>\n",
       "      <th>0</th>\n",
       "      <td>35741</td>\n",
       "      <td>2025-04-07</td>\n",
       "      <td>COORDENADOR DE OPERACOES III</td>\n",
       "      <td>NaN</td>\n",
       "    </tr>\n",
       "    <tr>\n",
       "      <th>1</th>\n",
       "      <td>35774</td>\n",
       "      <td>2025-04-22</td>\n",
       "      <td>ANALISTA DADOS I</td>\n",
       "      <td>NaN</td>\n",
       "    </tr>\n",
       "    <tr>\n",
       "      <th>2</th>\n",
       "      <td>35722</td>\n",
       "      <td>2025-04-02</td>\n",
       "      <td>ASSISTENTE DE BPO I</td>\n",
       "      <td>NaN</td>\n",
       "    </tr>\n",
       "    <tr>\n",
       "      <th>3</th>\n",
       "      <td>35767</td>\n",
       "      <td>2025-04-22</td>\n",
       "      <td>DESENVOLVEDOR III</td>\n",
       "      <td>NaN</td>\n",
       "    </tr>\n",
       "    <tr>\n",
       "      <th>4</th>\n",
       "      <td>35701</td>\n",
       "      <td>2025-04-01</td>\n",
       "      <td>GERENTE DE SERVICOS SENIOR</td>\n",
       "      <td>NaN</td>\n",
       "    </tr>\n",
       "    <tr>\n",
       "      <th>...</th>\n",
       "      <td>...</td>\n",
       "      <td>...</td>\n",
       "      <td>...</td>\n",
       "      <td>...</td>\n",
       "    </tr>\n",
       "    <tr>\n",
       "      <th>78</th>\n",
       "      <td>35711</td>\n",
       "      <td>2025-04-01</td>\n",
       "      <td>ASSISTENTE DE BPO I</td>\n",
       "      <td>NaN</td>\n",
       "    </tr>\n",
       "    <tr>\n",
       "      <th>79</th>\n",
       "      <td>35779</td>\n",
       "      <td>2025-04-28</td>\n",
       "      <td>DESENVOLVEDOR III</td>\n",
       "      <td>NaN</td>\n",
       "    </tr>\n",
       "    <tr>\n",
       "      <th>80</th>\n",
       "      <td>35744</td>\n",
       "      <td>2025-04-08</td>\n",
       "      <td>DESENVOLVEDOR II</td>\n",
       "      <td>NaN</td>\n",
       "    </tr>\n",
       "    <tr>\n",
       "      <th>81</th>\n",
       "      <td>35765</td>\n",
       "      <td>2025-04-22</td>\n",
       "      <td>ANALISTA DEVSECOPS III</td>\n",
       "      <td>NaN</td>\n",
       "    </tr>\n",
       "    <tr>\n",
       "      <th>82</th>\n",
       "      <td>35751</td>\n",
       "      <td>2025-04-11</td>\n",
       "      <td>ANALISTA DADOS II</td>\n",
       "      <td>NaN</td>\n",
       "    </tr>\n",
       "  </tbody>\n",
       "</table>\n",
       "<p>83 rows × 4 columns</p>\n",
       "</div>"
      ],
      "text/plain": [
       "    MATRICULA   Admissão                         Cargo Unnamed: 3\n",
       "0       35741 2025-04-07  COORDENADOR DE OPERACOES III        NaN\n",
       "1       35774 2025-04-22              ANALISTA DADOS I        NaN\n",
       "2       35722 2025-04-02           ASSISTENTE DE BPO I        NaN\n",
       "3       35767 2025-04-22             DESENVOLVEDOR III        NaN\n",
       "4       35701 2025-04-01    GERENTE DE SERVICOS SENIOR        NaN\n",
       "..        ...        ...                           ...        ...\n",
       "78      35711 2025-04-01           ASSISTENTE DE BPO I        NaN\n",
       "79      35779 2025-04-28             DESENVOLVEDOR III        NaN\n",
       "80      35744 2025-04-08              DESENVOLVEDOR II        NaN\n",
       "81      35765 2025-04-22        ANALISTA DEVSECOPS III        NaN\n",
       "82      35751 2025-04-11             ANALISTA DADOS II        NaN\n",
       "\n",
       "[83 rows x 4 columns]"
      ]
     },
     "execution_count": 3610,
     "metadata": {},
     "output_type": "execute_result"
    }
   ],
   "source": [
    "df_admitidos_mes"
   ]
  },
  {
   "cell_type": "code",
   "execution_count": 3611,
   "id": "3f69717c",
   "metadata": {},
   "outputs": [
    {
     "name": "stdout",
     "output_type": "stream",
     "text": [
      "<class 'pandas.core.frame.DataFrame'>\n",
      "RangeIndex: 83 entries, 0 to 82\n",
      "Data columns (total 4 columns):\n",
      " #   Column      Non-Null Count  Dtype         \n",
      "---  ------      --------------  -----         \n",
      " 0   MATRICULA   83 non-null     int64         \n",
      " 1   Admissão    83 non-null     datetime64[ns]\n",
      " 2   Cargo       83 non-null     object        \n",
      " 3   Unnamed: 3  6 non-null      object        \n",
      "dtypes: datetime64[ns](1), int64(1), object(2)\n",
      "memory usage: 2.7+ KB\n"
     ]
    }
   ],
   "source": [
    "df_admitidos_mes.info()"
   ]
  },
  {
   "cell_type": "markdown",
   "id": "0c870ff6",
   "metadata": {},
   "source": [
    "Cargo é uma informação repetida da tabela principal, é bom evitar termos informações iguais "
   ]
  },
  {
   "cell_type": "code",
   "execution_count": 3612,
   "id": "1101f98e",
   "metadata": {},
   "outputs": [
    {
     "data": {
      "text/plain": [
       "Cargo\n",
       "ASSISTENTE DE BPO I               29\n",
       "DESENVOLVEDOR III                 16\n",
       "AGILE MASTER                       3\n",
       "ESTAGIARIO                         3\n",
       "DESENVOLVEDOR II                   3\n",
       "TECH RECRUITER II                  3\n",
       "ANALISTA SUPORTE I                 2\n",
       "ANALISTA DADOS I                   2\n",
       "DESIGNER UX/UI II                  2\n",
       "COORDENADOR DE OPERACOES III       2\n",
       "CONS. FUNCIONAL SAP III            2\n",
       "ANALISTA DADOS III                 2\n",
       "ARQUITETO SOLUCOES III             1\n",
       "PRODUCT MANAGER II                 1\n",
       "CONS. ESP. FUNCIONAL SAP           1\n",
       "ANALISTA DEVSECOPS III             1\n",
       "SDR II                             1\n",
       "ASSISTENTE PMO                     1\n",
       "ANALISTA QUAL. SOFTWARE I          1\n",
       "ARQUITETO INFRAESTRUTURA TI II     1\n",
       "AGILE COACH II                     1\n",
       "ARQUITETO DADOS II                 1\n",
       "ENGENHEIRO DADOS ESP. II           1\n",
       "ENGENHEIRO DADOS II                1\n",
       "GERENTE DE SERVICOS SENIOR         1\n",
       "ANALISTA DADOS II                  1\n",
       "Name: count, dtype: int64"
      ]
     },
     "execution_count": 3612,
     "metadata": {},
     "output_type": "execute_result"
    }
   ],
   "source": [
    "df_admitidos_mes[\"Cargo\"].value_counts()"
   ]
  },
  {
   "cell_type": "code",
   "execution_count": 3613,
   "id": "e08c9395",
   "metadata": {},
   "outputs": [
    {
     "data": {
      "text/plain": [
       "TITULO DO CARGO\n",
       "ASSISTENTE DE BPO I                      499\n",
       "DESENVOLVEDOR III                        180\n",
       "ASSISTENTE DE BPO II                     134\n",
       "DESENVOLVEDOR II                         112\n",
       "LIDER DE BPO                              56\n",
       "                                        ... \n",
       "COORDENADOR CONTABIL-FISCAL                1\n",
       "ANALISTA DE COMERCIO EXTERIOR II           1\n",
       "ESPECIALISTA DE SISTEMAS E NEGOCIOS I      1\n",
       "ASSISTENTE CONTABIL-FISCAL                 1\n",
       "DEVELOPER II                               1\n",
       "Name: count, Length: 170, dtype: int64"
      ]
     },
     "execution_count": 3613,
     "metadata": {},
     "output_type": "execute_result"
    }
   ],
   "source": [
    "df_final[\"TITULO DO CARGO\"].value_counts()"
   ]
  },
  {
   "cell_type": "code",
   "execution_count": 3614,
   "id": "53c52339",
   "metadata": {},
   "outputs": [],
   "source": [
    "df_admitidos_mes = df_admitidos_mes.drop(columns=\"Cargo\")"
   ]
  },
  {
   "cell_type": "markdown",
   "id": "5877486c",
   "metadata": {},
   "source": [
    "Unnamed: 3 parece conter informações complementares importantes. \n",
    "Vamos criar uma coluna com um nome adequado. "
   ]
  },
  {
   "cell_type": "code",
   "execution_count": 3615,
   "id": "852a6b2e",
   "metadata": {},
   "outputs": [
    {
     "data": {
      "text/plain": [
       "Unnamed: 3\n",
       "demitido         3\n",
       "não recebe VR    3\n",
       "Name: count, dtype: int64"
      ]
     },
     "execution_count": 3615,
     "metadata": {},
     "output_type": "execute_result"
    }
   ],
   "source": [
    "df_admitidos_mes[\"Unnamed: 3\"].value_counts()"
   ]
  },
  {
   "cell_type": "code",
   "execution_count": 3616,
   "id": "b9fcec3d",
   "metadata": {},
   "outputs": [],
   "source": [
    "df_admitidos_mes = df_admitidos_mes.rename(columns={\"Unnamed: 3\": \"INFO_ADMITIDOS_MES\"})\n",
    "\n",
    "# A coluna Admissão pode ser melhor descrita por DATA_DE_ADMISSAO_MES_ATUAL, considerando da tabela final completa\n",
    "df_admitidos_mes = df_admitidos_mes.rename(columns={\"Admissão\": \"DATA_DE_ADMISSAO_MES_ATUAL\"})"
   ]
  },
  {
   "cell_type": "markdown",
   "id": "85877a26",
   "metadata": {},
   "source": [
    "Verificando se o merge é possível"
   ]
  },
  {
   "cell_type": "code",
   "execution_count": 3617,
   "id": "0eb61569",
   "metadata": {},
   "outputs": [
    {
     "data": {
      "text/plain": [
       "True"
      ]
     },
     "execution_count": 3617,
     "metadata": {},
     "output_type": "execute_result"
    }
   ],
   "source": [
    "len(df_final.merge(df_admitidos_mes, on = \"MATRICULA\", how=\"left\")) == len(df_final)"
   ]
  },
  {
   "cell_type": "markdown",
   "id": "44890b7f",
   "metadata": {},
   "source": [
    "Realizando o merge"
   ]
  },
  {
   "cell_type": "code",
   "execution_count": 3618,
   "id": "b1c22259",
   "metadata": {},
   "outputs": [],
   "source": [
    "df_final = df_final.merge(df_admitidos_mes, on=\"MATRICULA\", how=\"left\")"
   ]
  },
  {
   "cell_type": "code",
   "execution_count": 3619,
   "id": "749a8bbe",
   "metadata": {},
   "outputs": [
    {
     "name": "stdout",
     "output_type": "stream",
     "text": [
      "<class 'pandas.core.frame.DataFrame'>\n",
      "RangeIndex: 1815 entries, 0 to 1814\n",
      "Data columns (total 10 columns):\n",
      " #   Column                      Non-Null Count  Dtype         \n",
      "---  ------                      --------------  -----         \n",
      " 0   MATRICULA                   1815 non-null   int64         \n",
      " 1   EMPRESA                     1815 non-null   int64         \n",
      " 2   TITULO DO CARGO             1815 non-null   object        \n",
      " 3   DESC. SITUACAO              1815 non-null   object        \n",
      " 4   Sindicato                   1815 non-null   object        \n",
      " 5   DIAS DE FÉRIAS              1815 non-null   float64       \n",
      " 6   DATA DEMISSÃO               3 non-null      datetime64[ns]\n",
      " 7   COMUNICADO DE DESLIGAMENTO  2 non-null      object        \n",
      " 8   DATA_DE_ADMISSAO_MES_ATUAL  73 non-null     datetime64[ns]\n",
      " 9   INFO_ADMITIDOS_MES          0 non-null      object        \n",
      "dtypes: datetime64[ns](2), float64(1), int64(2), object(5)\n",
      "memory usage: 141.9+ KB\n"
     ]
    }
   ],
   "source": [
    "df_final.info()"
   ]
  },
  {
   "cell_type": "markdown",
   "id": "d394c92d",
   "metadata": {},
   "source": [
    "Por enquanto ok o entendimento da tabela completa, seguindo."
   ]
  },
  {
   "cell_type": "markdown",
   "id": "1512ed93",
   "metadata": {},
   "source": [
    "### df_sindicato_valor"
   ]
  },
  {
   "cell_type": "code",
   "execution_count": 3620,
   "id": "13d23697",
   "metadata": {},
   "outputs": [
    {
     "data": {
      "text/html": [
       "<div>\n",
       "<style scoped>\n",
       "    .dataframe tbody tr th:only-of-type {\n",
       "        vertical-align: middle;\n",
       "    }\n",
       "\n",
       "    .dataframe tbody tr th {\n",
       "        vertical-align: top;\n",
       "    }\n",
       "\n",
       "    .dataframe thead th {\n",
       "        text-align: right;\n",
       "    }\n",
       "</style>\n",
       "<table border=\"1\" class=\"dataframe\">\n",
       "  <thead>\n",
       "    <tr style=\"text-align: right;\">\n",
       "      <th></th>\n",
       "      <th>ESTADO</th>\n",
       "      <th>VALOR</th>\n",
       "    </tr>\n",
       "  </thead>\n",
       "  <tbody>\n",
       "    <tr>\n",
       "      <th>0</th>\n",
       "      <td>Paraná</td>\n",
       "      <td>35.0</td>\n",
       "    </tr>\n",
       "    <tr>\n",
       "      <th>1</th>\n",
       "      <td>Rio de Janeiro</td>\n",
       "      <td>35.0</td>\n",
       "    </tr>\n",
       "    <tr>\n",
       "      <th>2</th>\n",
       "      <td>Rio Grande do Sul</td>\n",
       "      <td>35.0</td>\n",
       "    </tr>\n",
       "    <tr>\n",
       "      <th>3</th>\n",
       "      <td>São Paulo</td>\n",
       "      <td>37.5</td>\n",
       "    </tr>\n",
       "    <tr>\n",
       "      <th>4</th>\n",
       "      <td>​​​​​​</td>\n",
       "      <td>NaN</td>\n",
       "    </tr>\n",
       "  </tbody>\n",
       "</table>\n",
       "</div>"
      ],
      "text/plain": [
       "  ESTADO                                                       VALOR\n",
       "0                                             Paraná            35.0\n",
       "1                                     Rio de Janeiro            35.0\n",
       "2                                  Rio Grande do Sul            35.0\n",
       "3                                          São Paulo            37.5\n",
       "4                                             ​​​​​​             NaN"
      ]
     },
     "execution_count": 3620,
     "metadata": {},
     "output_type": "execute_result"
    }
   ],
   "source": [
    "df_sindicato_valor"
   ]
  },
  {
   "cell_type": "code",
   "execution_count": 3621,
   "id": "90d3045a",
   "metadata": {},
   "outputs": [
    {
     "data": {
      "text/plain": [
       "ESTADO                                                     \n",
       "Paraná               1\n",
       "Rio de Janeiro       1\n",
       "Rio Grande do Sul    1\n",
       "São Paulo            1\n",
       "​​​​​​               1\n",
       "Name: count, dtype: int64"
      ]
     },
     "execution_count": 3621,
     "metadata": {},
     "output_type": "execute_result"
    }
   ],
   "source": [
    "df_sindicato_valor[\"ESTADO\\xa0\\xa0\\xa0\\xa0\\xa0\\xa0\\xa0\\xa0\\xa0\\xa0\\xa0\\xa0\\xa0\\xa0\\xa0\\xa0\\xa0\\xa0\\xa0\\xa0\\xa0\\xa0\\xa0\\xa0\\xa0\\xa0\\xa0\\xa0\\xa0\\xa0\\xa0\\xa0\\xa0\\xa0\\xa0\\xa0\\xa0\\xa0\\xa0\\xa0\\xa0\\xa0\\xa0\\xa0\\xa0\\xa0\\xa0\\xa0\\xa0\\xa0\\xa0\\xa0\\xa0\"].value_counts(dropna=False)"
   ]
  },
  {
   "cell_type": "markdown",
   "id": "8d96262a",
   "metadata": {},
   "source": [
    "Formato estranho de nome de coluna, renomeando "
   ]
  },
  {
   "cell_type": "code",
   "execution_count": 3622,
   "id": "68b6bf69",
   "metadata": {},
   "outputs": [],
   "source": [
    "df_sindicato_valor = df_sindicato_valor.rename(\n",
    "    columns={\n",
    "        \"ESTADO\\xa0\\xa0\\xa0\\xa0\\xa0\\xa0\\xa0\\xa0\\xa0\\xa0\\xa0\\xa0\\xa0\\xa0\\xa0\\xa0\\xa0\\xa0\\xa0\\xa0\\xa0\\xa0\\xa0\\xa0\\xa0\\xa0\\xa0\\xa0\\xa0\\xa0\\xa0\\xa0\\xa0\\xa0\\xa0\\xa0\\xa0\\xa0\\xa0\\xa0\\xa0\\xa0\\xa0\\xa0\\xa0\\xa0\\xa0\\xa0\\xa0\\xa0\\xa0\\xa0\\xa0\": \"ESTADO_SINDICATO\"\n",
    "        }\n",
    "    )"
   ]
  },
  {
   "cell_type": "code",
   "execution_count": 3623,
   "id": "ed18e417",
   "metadata": {},
   "outputs": [
    {
     "data": {
      "text/plain": [
       "Sindicato\n",
       "SINDPPD RS - SINDICATO DOS TRAB. EM PROC. DE DADOS RIO GRANDE DO SUL                              1150\n",
       "SINDPD SP - SIND.TRAB.EM PROC DADOS E EMPR.EMPRESAS PROC DADOS ESTADO DE SP.                       423\n",
       "SITEPD PR - SIND DOS TRAB EM EMPR PRIVADAS DE PROC DE DADOS DE CURITIBA E REGIAO METROPOLITANA     140\n",
       "SINDPD RJ - SINDICATO PROFISSIONAIS DE PROC DADOS DO RIO DE JANEIRO                                102\n",
       "Name: count, dtype: int64"
      ]
     },
     "execution_count": 3623,
     "metadata": {},
     "output_type": "execute_result"
    }
   ],
   "source": [
    "df_final[\"Sindicato\"].value_counts()"
   ]
  },
  {
   "cell_type": "markdown",
   "id": "cab17278",
   "metadata": {},
   "source": [
    "É Necessário extrair o estado da coluna Sindicato da base final "
   ]
  },
  {
   "cell_type": "code",
   "execution_count": 3624,
   "id": "d1bed656",
   "metadata": {},
   "outputs": [],
   "source": [
    "df_final[\"ESTADO_SINDICATO_SIGLA\"] = df_final[\"Sindicato\"].str.split().str[1]"
   ]
  },
  {
   "cell_type": "code",
   "execution_count": 3625,
   "id": "4c12f468",
   "metadata": {},
   "outputs": [
    {
     "data": {
      "text/plain": [
       "ESTADO_SINDICATO_SIGLA\n",
       "RS    1150\n",
       "SP     423\n",
       "PR     140\n",
       "RJ     102\n",
       "Name: count, dtype: int64"
      ]
     },
     "execution_count": 3625,
     "metadata": {},
     "output_type": "execute_result"
    }
   ],
   "source": [
    "df_final[\"ESTADO_SINDICATO_SIGLA\"].value_counts(dropna=False)"
   ]
  },
  {
   "cell_type": "markdown",
   "id": "f059260d",
   "metadata": {},
   "source": [
    "Extração de estado realizada com sucesso. \n",
    "\n",
    "Mais importante, sem informações faltantes (NaNs)"
   ]
  },
  {
   "cell_type": "markdown",
   "id": "9d4a421a",
   "metadata": {},
   "source": [
    "Associando os estados com o nome que está na outra base"
   ]
  },
  {
   "cell_type": "code",
   "execution_count": 3626,
   "id": "db2ca31b",
   "metadata": {},
   "outputs": [
    {
     "data": {
      "text/plain": [
       "ESTADO_SINDICATO\n",
       "Paraná               1\n",
       "Rio de Janeiro       1\n",
       "Rio Grande do Sul    1\n",
       "São Paulo            1\n",
       "​​​​​​               1\n",
       "Name: count, dtype: int64"
      ]
     },
     "execution_count": 3626,
     "metadata": {},
     "output_type": "execute_result"
    }
   ],
   "source": [
    "df_sindicato_valor[\"ESTADO_SINDICATO\"].value_counts()"
   ]
  },
  {
   "cell_type": "code",
   "execution_count": 3627,
   "id": "631f180c",
   "metadata": {},
   "outputs": [],
   "source": [
    "df_final.loc[df_final[\"ESTADO_SINDICATO_SIGLA\"] == \"RJ\", \"ESTADO_SINDICATO\"] = \"Rio de Janeiro\"\n",
    "df_final.loc[df_final[\"ESTADO_SINDICATO_SIGLA\"] == \"SP\", \"ESTADO_SINDICATO\"] = \"São Paulo\"\n",
    "df_final.loc[df_final[\"ESTADO_SINDICATO_SIGLA\"] == \"PR\", \"ESTADO_SINDICATO\"] = \"Paraná\"\n",
    "df_final.loc[df_final[\"ESTADO_SINDICATO_SIGLA\"] == \"RS\", \"ESTADO_SINDICATO\"] = \"Rio Grande do Sul\""
   ]
  },
  {
   "cell_type": "code",
   "execution_count": 3628,
   "id": "51bb445c",
   "metadata": {},
   "outputs": [
    {
     "data": {
      "text/html": [
       "<div>\n",
       "<style scoped>\n",
       "    .dataframe tbody tr th:only-of-type {\n",
       "        vertical-align: middle;\n",
       "    }\n",
       "\n",
       "    .dataframe tbody tr th {\n",
       "        vertical-align: top;\n",
       "    }\n",
       "\n",
       "    .dataframe thead th {\n",
       "        text-align: right;\n",
       "    }\n",
       "</style>\n",
       "<table border=\"1\" class=\"dataframe\">\n",
       "  <thead>\n",
       "    <tr style=\"text-align: right;\">\n",
       "      <th></th>\n",
       "      <th>ESTADO_SINDICATO</th>\n",
       "      <th>VALOR</th>\n",
       "    </tr>\n",
       "  </thead>\n",
       "  <tbody>\n",
       "    <tr>\n",
       "      <th>0</th>\n",
       "      <td>Paraná</td>\n",
       "      <td>35.0</td>\n",
       "    </tr>\n",
       "    <tr>\n",
       "      <th>1</th>\n",
       "      <td>Rio de Janeiro</td>\n",
       "      <td>35.0</td>\n",
       "    </tr>\n",
       "    <tr>\n",
       "      <th>2</th>\n",
       "      <td>Rio Grande do Sul</td>\n",
       "      <td>35.0</td>\n",
       "    </tr>\n",
       "    <tr>\n",
       "      <th>3</th>\n",
       "      <td>São Paulo</td>\n",
       "      <td>37.5</td>\n",
       "    </tr>\n",
       "    <tr>\n",
       "      <th>4</th>\n",
       "      <td>​​​​​​</td>\n",
       "      <td>NaN</td>\n",
       "    </tr>\n",
       "  </tbody>\n",
       "</table>\n",
       "</div>"
      ],
      "text/plain": [
       "    ESTADO_SINDICATO  VALOR\n",
       "0             Paraná   35.0\n",
       "1     Rio de Janeiro   35.0\n",
       "2  Rio Grande do Sul   35.0\n",
       "3          São Paulo   37.5\n",
       "4             ​​​​​​    NaN"
      ]
     },
     "execution_count": 3628,
     "metadata": {},
     "output_type": "execute_result"
    }
   ],
   "source": [
    "df_sindicato_valor"
   ]
  },
  {
   "cell_type": "markdown",
   "id": "72d3bb1d",
   "metadata": {},
   "source": [
    "Valor ainda é muito raso, trocando para VALOR_SINDICATO "
   ]
  },
  {
   "cell_type": "code",
   "execution_count": 3629,
   "id": "91b9591b",
   "metadata": {},
   "outputs": [],
   "source": [
    "df_sindicato_valor = df_sindicato_valor.rename(columns = {\"VALOR\": \"VALOR_SINDICATO\"})"
   ]
  },
  {
   "cell_type": "markdown",
   "id": "789762e3",
   "metadata": {},
   "source": [
    "Verificando se é possível unir as duas tabelas, através da coluna \"ESTADO_SINDICATO\""
   ]
  },
  {
   "cell_type": "code",
   "execution_count": 3630,
   "id": "0d107087",
   "metadata": {},
   "outputs": [
    {
     "data": {
      "text/plain": [
       "True"
      ]
     },
     "execution_count": 3630,
     "metadata": {},
     "output_type": "execute_result"
    }
   ],
   "source": [
    "len(df_final.merge(df_sindicato_valor, on = \"ESTADO_SINDICATO\", how=\"left\")) == len(df_final)"
   ]
  },
  {
   "cell_type": "markdown",
   "id": "0c834994",
   "metadata": {},
   "source": [
    "Ok, unindo as tabelas"
   ]
  },
  {
   "cell_type": "code",
   "execution_count": 3631,
   "id": "8c2a809d",
   "metadata": {},
   "outputs": [],
   "source": [
    "df_final = df_final.merge(df_sindicato_valor, on = \"ESTADO_SINDICATO\", how=\"left\")"
   ]
  },
  {
   "cell_type": "code",
   "execution_count": 3632,
   "id": "d9fd2510",
   "metadata": {},
   "outputs": [
    {
     "data": {
      "text/plain": [
       "VALOR_SINDICATO\n",
       "35.0    1392\n",
       "37.5     423\n",
       "Name: count, dtype: int64"
      ]
     },
     "execution_count": 3632,
     "metadata": {},
     "output_type": "execute_result"
    }
   ],
   "source": [
    "df_final[\"VALOR_SINDICATO\"].value_counts(dropna=False)"
   ]
  },
  {
   "cell_type": "markdown",
   "id": "a73f1806",
   "metadata": {},
   "source": [
    "Merge com base de sindicato feito com sucesso"
   ]
  },
  {
   "cell_type": "markdown",
   "id": "d2adae3b",
   "metadata": {},
   "source": [
    "### df_dias_uteis_colaborador"
   ]
  },
  {
   "cell_type": "code",
   "execution_count": 3633,
   "id": "c02937f5",
   "metadata": {},
   "outputs": [
    {
     "data": {
      "text/html": [
       "<div>\n",
       "<style scoped>\n",
       "    .dataframe tbody tr th:only-of-type {\n",
       "        vertical-align: middle;\n",
       "    }\n",
       "\n",
       "    .dataframe tbody tr th {\n",
       "        vertical-align: top;\n",
       "    }\n",
       "\n",
       "    .dataframe thead th {\n",
       "        text-align: right;\n",
       "    }\n",
       "</style>\n",
       "<table border=\"1\" class=\"dataframe\">\n",
       "  <thead>\n",
       "    <tr style=\"text-align: right;\">\n",
       "      <th></th>\n",
       "      <th>SINDICADO</th>\n",
       "      <th>DIAS UTEIS</th>\n",
       "    </tr>\n",
       "  </thead>\n",
       "  <tbody>\n",
       "    <tr>\n",
       "      <th>0</th>\n",
       "      <td>SITEPD PR - SIND DOS TRAB EM EMPR PRIVADAS DE ...</td>\n",
       "      <td>22</td>\n",
       "    </tr>\n",
       "    <tr>\n",
       "      <th>1</th>\n",
       "      <td>SINDPPD RS - SINDICATO DOS TRAB. EM PROC. DE D...</td>\n",
       "      <td>21</td>\n",
       "    </tr>\n",
       "    <tr>\n",
       "      <th>2</th>\n",
       "      <td>SINDPD SP - SIND.TRAB.EM PROC DADOS E EMPR.EMP...</td>\n",
       "      <td>22</td>\n",
       "    </tr>\n",
       "    <tr>\n",
       "      <th>3</th>\n",
       "      <td>SINDPD RJ - SINDICATO PROFISSIONAIS DE PROC DA...</td>\n",
       "      <td>21</td>\n",
       "    </tr>\n",
       "  </tbody>\n",
       "</table>\n",
       "</div>"
      ],
      "text/plain": [
       "                                           SINDICADO  DIAS UTEIS \n",
       "0  SITEPD PR - SIND DOS TRAB EM EMPR PRIVADAS DE ...           22\n",
       "1  SINDPPD RS - SINDICATO DOS TRAB. EM PROC. DE D...           21\n",
       "2  SINDPD SP - SIND.TRAB.EM PROC DADOS E EMPR.EMP...           22\n",
       "3  SINDPD RJ - SINDICATO PROFISSIONAIS DE PROC DA...           21"
      ]
     },
     "execution_count": 3633,
     "metadata": {},
     "output_type": "execute_result"
    }
   ],
   "source": [
    "df_dias_uteis_colaborador"
   ]
  },
  {
   "cell_type": "markdown",
   "id": "8f4da741",
   "metadata": {},
   "source": [
    "Precisamos extrair o estado do sindicato, de maneira similar ao que foi feito anteriormente"
   ]
  },
  {
   "cell_type": "code",
   "execution_count": 3634,
   "id": "0ddf5ff6",
   "metadata": {},
   "outputs": [
    {
     "data": {
      "text/plain": [
       "Index(['SINDICADO', 'DIAS UTEIS '], dtype='object')"
      ]
     },
     "execution_count": 3634,
     "metadata": {},
     "output_type": "execute_result"
    }
   ],
   "source": [
    "df_dias_uteis_colaborador.columns"
   ]
  },
  {
   "cell_type": "code",
   "execution_count": 3635,
   "id": "7c16985a",
   "metadata": {},
   "outputs": [],
   "source": [
    "df_dias_uteis_colaborador[\"ESTADO_SINDICATO_SIGLA\"] = df_dias_uteis_colaborador[\"SINDICADO\"].str.split().str[1]"
   ]
  },
  {
   "cell_type": "markdown",
   "id": "0f0b1f23",
   "metadata": {},
   "source": [
    "Eliminando espaço em branco das colunas"
   ]
  },
  {
   "cell_type": "code",
   "execution_count": 3636,
   "id": "ea0021da",
   "metadata": {},
   "outputs": [],
   "source": [
    "df_dias_uteis_colaborador.columns = df_dias_uteis_colaborador.columns.str.strip()"
   ]
  },
  {
   "cell_type": "markdown",
   "id": "29959025",
   "metadata": {},
   "source": [
    "Extraindo apenas colunas de interesse para essa base"
   ]
  },
  {
   "cell_type": "code",
   "execution_count": 3637,
   "id": "b097ea39",
   "metadata": {},
   "outputs": [],
   "source": [
    "df_dias_uteis_colaborador = df_dias_uteis_colaborador[[\"ESTADO_SINDICATO_SIGLA\", \"DIAS UTEIS\"]].copy()"
   ]
  },
  {
   "cell_type": "code",
   "execution_count": 3638,
   "id": "eca4f61f",
   "metadata": {},
   "outputs": [],
   "source": [
    "df_final = df_final.merge(df_dias_uteis_colaborador, on=\"ESTADO_SINDICATO_SIGLA\", how=\"left\")"
   ]
  },
  {
   "cell_type": "code",
   "execution_count": 3639,
   "id": "12a85bf7",
   "metadata": {},
   "outputs": [
    {
     "data": {
      "text/plain": [
       "DIAS UTEIS\n",
       "21    1252\n",
       "22     563\n",
       "Name: count, dtype: int64"
      ]
     },
     "execution_count": 3639,
     "metadata": {},
     "output_type": "execute_result"
    }
   ],
   "source": [
    "df_final[\"DIAS UTEIS\"].value_counts(dropna=False)"
   ]
  },
  {
   "cell_type": "markdown",
   "id": "bec1d4a3",
   "metadata": {},
   "source": [
    "### Ajustes df_final"
   ]
  },
  {
   "cell_type": "code",
   "execution_count": 3640,
   "id": "910026f9",
   "metadata": {},
   "outputs": [
    {
     "name": "stdout",
     "output_type": "stream",
     "text": [
      "<class 'pandas.core.frame.DataFrame'>\n",
      "RangeIndex: 1815 entries, 0 to 1814\n",
      "Data columns (total 14 columns):\n",
      " #   Column                      Non-Null Count  Dtype         \n",
      "---  ------                      --------------  -----         \n",
      " 0   MATRICULA                   1815 non-null   int64         \n",
      " 1   EMPRESA                     1815 non-null   int64         \n",
      " 2   TITULO DO CARGO             1815 non-null   object        \n",
      " 3   DESC. SITUACAO              1815 non-null   object        \n",
      " 4   Sindicato                   1815 non-null   object        \n",
      " 5   DIAS DE FÉRIAS              1815 non-null   float64       \n",
      " 6   DATA DEMISSÃO               3 non-null      datetime64[ns]\n",
      " 7   COMUNICADO DE DESLIGAMENTO  2 non-null      object        \n",
      " 8   DATA_DE_ADMISSAO_MES_ATUAL  73 non-null     datetime64[ns]\n",
      " 9   INFO_ADMITIDOS_MES          0 non-null      object        \n",
      " 10  ESTADO_SINDICATO_SIGLA      1815 non-null   object        \n",
      " 11  ESTADO_SINDICATO            1815 non-null   object        \n",
      " 12  VALOR_SINDICATO             1815 non-null   float64       \n",
      " 13  DIAS UTEIS                  1815 non-null   int64         \n",
      "dtypes: datetime64[ns](2), float64(2), int64(3), object(7)\n",
      "memory usage: 198.6+ KB\n"
     ]
    }
   ],
   "source": [
    "df_final.info()"
   ]
  },
  {
   "cell_type": "markdown",
   "id": "cfb168f1",
   "metadata": {},
   "source": [
    "Considerações, agora com a base completa\n",
    "\n",
    "1. INFO_ADMITIDOS_MES pode apresentar uma informação desnecessária (para esse mês pelo menos)\n",
    "2. Nulos de ADMITIDO_NO_MES_ATUAL podem ser tranformados em False \n",
    "3. DATA DEMISSÃO provavelmente vai servir para quebrar alguma coluna \n",
    "\n",
    "Agora, realizando essas tratativas:"
   ]
  },
  {
   "cell_type": "markdown",
   "id": "2d237c7a",
   "metadata": {},
   "source": [
    "## Tratamento de exclusões"
   ]
  },
  {
   "cell_type": "markdown",
   "id": "b9e529d2",
   "metadata": {},
   "source": [
    "### Remoção da base final de todos os profissionais com cargo de diretores, estagiários e aprendizes"
   ]
  },
  {
   "cell_type": "code",
   "execution_count": 3641,
   "id": "753c4992",
   "metadata": {},
   "outputs": [],
   "source": [
    "pd.set_option('display.max_rows', None)"
   ]
  },
  {
   "cell_type": "code",
   "execution_count": 3642,
   "id": "86509a71",
   "metadata": {},
   "outputs": [
    {
     "data": {
      "text/plain": [
       "['ADMINISTRADOR DE BANCO DE DADOS III',\n",
       " 'ADVOGADO II',\n",
       " 'ADVOGADO III',\n",
       " 'AGILE COACH I',\n",
       " 'AGILE COACH II',\n",
       " 'AGILE MASTER',\n",
       " 'ANALISTA ADMINISTRATIVO I',\n",
       " 'ANALISTA ADMINISTRATIVO II',\n",
       " 'ANALISTA CONTABIL-FISCAL I',\n",
       " 'ANALISTA CONTABIL-FISCAL II',\n",
       " 'ANALISTA CONTABIL-FISCAL III',\n",
       " 'ANALISTA DE ADMINISTRACAO DE PESSOAS I',\n",
       " 'ANALISTA DE ADMINISTRACAO DE PESSOAS II',\n",
       " 'ANALISTA DE BPO II',\n",
       " 'ANALISTA DE COMERCIO EXTERIOR II',\n",
       " 'ANALISTA DE COMPLIANCE II',\n",
       " 'ANALISTA DE COMPRAS I',\n",
       " 'ANALISTA DE COMUNICACAO E MARKETING I',\n",
       " 'ANALISTA DE COMUNICACAO E MARKETING II',\n",
       " 'ANALISTA DE COMUNICACAO E MARKETING III',\n",
       " 'ANALISTA DE CONTROLADORIA I',\n",
       " 'ANALISTA DE CONTROLADORIA II',\n",
       " 'ANALISTA DE CONTROLADORIA III',\n",
       " 'ANALISTA DE CORPORATE VENTURE II',\n",
       " 'ANALISTA DE CUSTOMER SUCCESS II',\n",
       " 'ANALISTA DE DADOS I',\n",
       " 'ANALISTA DE DADOS II',\n",
       " 'ANALISTA DE DADOS III',\n",
       " 'ANALISTA DE EDUCACAO CORPORATIVA I',\n",
       " 'ANALISTA DE EDUCACAO CORPORATIVA II',\n",
       " 'ANALISTA DE EXCELENCIA OPERACIONAL I',\n",
       " 'ANALISTA DE EXCELENCIA OPERACIONAL III',\n",
       " 'ANALISTA DE FINANCAS I',\n",
       " 'ANALISTA DE FINANCAS II',\n",
       " 'ANALISTA DE FINANCAS III',\n",
       " 'ANALISTA DE GESTAO DA MUDANCA III',\n",
       " 'ANALISTA DE INFRAESTRUTURA DE TI II',\n",
       " 'ANALISTA DE INFRAESTRUTURA DE TI III',\n",
       " 'ANALISTA DE NEGOCIOS I',\n",
       " 'ANALISTA DE NEGOCIOS II',\n",
       " 'ANALISTA DE NEGOCIOS III',\n",
       " 'ANALISTA DE PMO I',\n",
       " 'ANALISTA DE PMO II',\n",
       " 'ANALISTA DE PMO III',\n",
       " 'ANALISTA DE PROCESSOS I',\n",
       " 'ANALISTA DE PROCESSOS II',\n",
       " 'ANALISTA DE PROCESSOS III',\n",
       " 'ANALISTA DE QUALIDADE DE SOFTWARE I',\n",
       " 'ANALISTA DE QUALIDADE DE SOFTWARE II',\n",
       " 'ANALISTA DE QUALIDADE DE SOFTWARE III',\n",
       " 'ANALISTA DE RPA II',\n",
       " 'ANALISTA DE SEGURANCA DA INFORMACAO II',\n",
       " 'ANALISTA DE SEGURANCA DA INFORMACAO III',\n",
       " 'ANALISTA DE SERVICE LEVEL MANAGEMENT I',\n",
       " 'ANALISTA DE SISTEMAS E NEGOCIOS I',\n",
       " 'ANALISTA DE SISTEMAS E NEGOCIOS II',\n",
       " 'ANALISTA DE SISTEMAS E NEGOCIOS III',\n",
       " 'ANALISTA DE SUPORTE I',\n",
       " 'ANALISTA DE SUPORTE II',\n",
       " 'ANALISTA DE SUPORTE III',\n",
       " 'ANALISTA DEVSECOPS I',\n",
       " 'ANALISTA DEVSECOPS II',\n",
       " 'ANALISTA DEVSECOPS III',\n",
       " 'ANALISTA PRODUTOS I',\n",
       " 'ARQUITETO CORPORATIVO III',\n",
       " 'ARQUITETO DE DADOS II',\n",
       " 'ARQUITETO DE INFRAESTRUTURA DE TI I',\n",
       " 'ARQUITETO DE INFRAESTRUTURA DE TI II',\n",
       " 'ARQUITETO DE SOFTWARE I',\n",
       " 'ARQUITETO DE SOFTWARE II',\n",
       " 'ARQUITETO DE SOFTWARE III',\n",
       " 'ARQUITETO DE SOLUCOES I',\n",
       " 'ARQUITETO DE SOLUCOES III',\n",
       " 'ASSISTENTE ADMINISTRATIVO',\n",
       " 'ASSISTENTE CONTABIL-FISCAL',\n",
       " 'ASSISTENTE DE ADMINISTRACAO DE PESSOAS',\n",
       " 'ASSISTENTE DE BPO I',\n",
       " 'ASSISTENTE DE BPO II',\n",
       " 'ASSISTENTE DE BPO III',\n",
       " 'ASSISTENTE DE COMPRAS',\n",
       " 'ASSISTENTE DE COMUNICACAO E MARKETING',\n",
       " 'ASSISTENTE DE CUSTOMER SUCCESS',\n",
       " 'ASSISTENTE DE NEGOCIOS',\n",
       " 'ASSISTENTE DE NEGOCIOS I',\n",
       " 'ASSISTENTE DE NEGOCIOS II',\n",
       " 'ASSISTENTE DE NEGOCIOS III',\n",
       " 'ASSISTENTE DE PMO',\n",
       " 'BUSINESS PARTNER ESPECIALISTA',\n",
       " 'CIENTISTA DE DADOS ESPECIALISTA II',\n",
       " 'CIENTISTA DE DADOS III',\n",
       " 'CONSULTOR DE IMPLEMENTACAO II',\n",
       " 'CONSULTOR DE IMPLEMENTACAO III',\n",
       " 'CONSULTOR ESPECIALISTA FUNCIONAL SAP',\n",
       " 'CONSULTOR ESPECIALISTA TECNICO SAP',\n",
       " 'CONSULTOR FUNCIONAL SAP I',\n",
       " 'CONSULTOR FUNCIONAL SAP II',\n",
       " 'CONSULTOR FUNCIONAL SAP III',\n",
       " 'CONSULTOR TECNICO SAP I',\n",
       " 'CONSULTOR TECNICO SAP II',\n",
       " 'CONSULTOR TECNICO SAP III',\n",
       " 'COORDENADOR ADMINISTRATIVO',\n",
       " 'COORDENADOR CONTABIL-FISCAL',\n",
       " 'COORDENADOR DE ADMINISTRACAO DE PESSOAS',\n",
       " 'COORDENADOR DE ATRACAO E SELECAO',\n",
       " 'COORDENADOR DE BPO',\n",
       " 'COORDENADOR DE COMUNICACAO E MARKETING',\n",
       " 'COORDENADOR DE GESTAO DA MUDANCA',\n",
       " 'COORDENADOR DE GOVERNANCA DE NEGOCIOS',\n",
       " 'COORDENADOR DE INFRAESTRUTURA DE TI',\n",
       " 'COORDENADOR DE OPERACOES I',\n",
       " 'COORDENADOR DE OPERACOES II',\n",
       " 'COORDENADOR DE OPERACOES III',\n",
       " 'COORDENADOR DE REMUNERACAO E PERFORMANCE',\n",
       " 'COORDENADOR DE SISTEMAS',\n",
       " 'COORDENADOR FINANCEIRO',\n",
       " 'DELIVERY MANAGER',\n",
       " 'DESENVOLVEDOR DE RPA I',\n",
       " 'DESENVOLVEDOR DE RPA II',\n",
       " 'DESENVOLVEDOR DE RPA III',\n",
       " 'DESENVOLVEDOR I',\n",
       " 'DESENVOLVEDOR II',\n",
       " 'DESENVOLVEDOR III',\n",
       " 'DESIGNER UX/UI I',\n",
       " 'DESIGNER UX/UI II',\n",
       " 'DESIGNER UX/UI III',\n",
       " 'DEVELOPER II',\n",
       " 'DEVELOPER III',\n",
       " 'ENGENHEIRO DE DADOS ESPECIALISTA II',\n",
       " 'ENGENHEIRO DE DADOS I',\n",
       " 'ENGENHEIRO DE DADOS II',\n",
       " 'ENGENHEIRO DE DADOS III',\n",
       " 'ENTERPRISE AGILE COACH',\n",
       " 'ESPECIALISTA DE DADOS I',\n",
       " 'ESPECIALISTA DE PRE-VENDAS I',\n",
       " 'ESPECIALISTA DE PRE-VENDAS II',\n",
       " 'ESPECIALISTA DE PRE-VENDAS III',\n",
       " 'ESPECIALISTA DE QUALIDADE DE SOFTWARE I ',\n",
       " 'ESPECIALISTA DE RPA I',\n",
       " 'ESPECIALISTA DE SISTEMAS E NEGOCIOS I',\n",
       " 'EXECUTIVO DE CONTAS ESPECIALISTA',\n",
       " 'EXECUTIVO DE CONTAS I',\n",
       " 'EXECUTIVO DE CONTAS III',\n",
       " 'GERENTE CONTABIL-FISCAL',\n",
       " 'GERENTE DE ARQUITETURA E GOVERNANCA',\n",
       " 'GERENTE DE COMUNICACAO E MARKETING',\n",
       " 'GERENTE DE CUSTOMER SUCCESS',\n",
       " 'GERENTE DE GERACAO DE DEMANDAS',\n",
       " 'GERENTE DE OPERACOES I',\n",
       " 'GERENTE DE OPERACOES II',\n",
       " 'GERENTE DE PESSOAS E PERFORMANCE',\n",
       " 'GERENTE DE PMO',\n",
       " 'GERENTE DE PROJETOS I',\n",
       " 'GERENTE DE PROJETOS II',\n",
       " 'GERENTE DE SERVICOS SENIOR',\n",
       " 'GERENTE JURIDICO',\n",
       " 'LIDER DE BPO',\n",
       " 'LIDER DE SAP',\n",
       " 'LIDER TECNICO PLENO',\n",
       " 'LIDER TECNICO SENIOR',\n",
       " 'PRODUCT MANAGER I',\n",
       " 'PRODUCT MANAGER II',\n",
       " 'PRODUCT OWNER II',\n",
       " 'PRODUCT OWNER III',\n",
       " 'SDR II',\n",
       " 'TECH LEAD I',\n",
       " 'TECH LEAD II',\n",
       " 'TECH RECRUITER I',\n",
       " 'TECH RECRUITER II',\n",
       " 'TECH RECRUITER III',\n",
       " 'TRAINEE COMERCIAL']"
      ]
     },
     "execution_count": 3642,
     "metadata": {},
     "output_type": "execute_result"
    }
   ],
   "source": [
    "sorted(df_final[\"TITULO DO CARGO\"].unique().tolist())"
   ]
  },
  {
   "cell_type": "markdown",
   "id": "acbcb706",
   "metadata": {},
   "source": [
    "Não foram observados casos de diretores, estagiários e aprendizes, mas um script será elaborado para tratar caso apareçam"
   ]
  },
  {
   "cell_type": "code",
   "execution_count": 3643,
   "id": "0f4595fb",
   "metadata": {},
   "outputs": [],
   "source": [
    "pd.reset_option('display.max_rows')"
   ]
  },
  {
   "cell_type": "code",
   "execution_count": 3644,
   "id": "8906f120",
   "metadata": {},
   "outputs": [],
   "source": [
    "cargos_indesejados = [\"DIRETOR\", \"ESTAGIÁRIO\", \"ESTAGIARIO\", \"APRENDIZ\"]\n",
    "\n",
    "df_final[\"CARGO_INDESEJADO\"] = df_final[\"TITULO DO CARGO\"].str.contains(\n",
    "    \"|\".join(cargos_indesejados), case=False, na=False\n",
    ")"
   ]
  },
  {
   "cell_type": "code",
   "execution_count": 3645,
   "id": "44402261",
   "metadata": {},
   "outputs": [
    {
     "data": {
      "text/plain": [
       "CARGO_INDESEJADO\n",
       "False    1815\n",
       "Name: count, dtype: int64"
      ]
     },
     "execution_count": 3645,
     "metadata": {},
     "output_type": "execute_result"
    }
   ],
   "source": [
    "df_final[\"CARGO_INDESEJADO\"].value_counts(dropna=False)"
   ]
  },
  {
   "cell_type": "markdown",
   "id": "7abaf953",
   "metadata": {},
   "source": [
    "Filtrando esses casos"
   ]
  },
  {
   "cell_type": "code",
   "execution_count": 3646,
   "id": "907c8b99",
   "metadata": {},
   "outputs": [],
   "source": [
    "df_final = df_final[df_final[\"CARGO_INDESEJADO\"] == False].copy()"
   ]
  },
  {
   "cell_type": "code",
   "execution_count": 3647,
   "id": "05050c42",
   "metadata": {},
   "outputs": [],
   "source": [
    "df_final = df_final.drop(columns=\"CARGO_INDESEJADO\")"
   ]
  },
  {
   "cell_type": "markdown",
   "id": "4c738073",
   "metadata": {},
   "source": [
    "### Eliminação de afastados em geral"
   ]
  },
  {
   "cell_type": "code",
   "execution_count": 3648,
   "id": "3515ae65",
   "metadata": {},
   "outputs": [
    {
     "data": {
      "text/html": [
       "<div>\n",
       "<style scoped>\n",
       "    .dataframe tbody tr th:only-of-type {\n",
       "        vertical-align: middle;\n",
       "    }\n",
       "\n",
       "    .dataframe tbody tr th {\n",
       "        vertical-align: top;\n",
       "    }\n",
       "\n",
       "    .dataframe thead th {\n",
       "        text-align: right;\n",
       "    }\n",
       "</style>\n",
       "<table border=\"1\" class=\"dataframe\">\n",
       "  <thead>\n",
       "    <tr style=\"text-align: right;\">\n",
       "      <th></th>\n",
       "      <th>MATRICULA</th>\n",
       "      <th>DESC. SITUACAO</th>\n",
       "      <th>na compra?</th>\n",
       "      <th>Unnamed: 3</th>\n",
       "    </tr>\n",
       "  </thead>\n",
       "  <tbody>\n",
       "    <tr>\n",
       "      <th>0</th>\n",
       "      <td>32572</td>\n",
       "      <td>Licença Maternidade</td>\n",
       "      <td>NaN</td>\n",
       "      <td>NaN</td>\n",
       "    </tr>\n",
       "    <tr>\n",
       "      <th>1</th>\n",
       "      <td>25961</td>\n",
       "      <td>Licença Maternidade</td>\n",
       "      <td>NaN</td>\n",
       "      <td>NaN</td>\n",
       "    </tr>\n",
       "    <tr>\n",
       "      <th>2</th>\n",
       "      <td>21151</td>\n",
       "      <td>Auxílio Doença</td>\n",
       "      <td>NaN</td>\n",
       "      <td>NaN</td>\n",
       "    </tr>\n",
       "    <tr>\n",
       "      <th>3</th>\n",
       "      <td>25857</td>\n",
       "      <td>Auxílio Doença</td>\n",
       "      <td>NaN</td>\n",
       "      <td>NaN</td>\n",
       "    </tr>\n",
       "    <tr>\n",
       "      <th>4</th>\n",
       "      <td>31326</td>\n",
       "      <td>Licença Maternidade</td>\n",
       "      <td>NaN</td>\n",
       "      <td>NaN</td>\n",
       "    </tr>\n",
       "    <tr>\n",
       "      <th>5</th>\n",
       "      <td>32930</td>\n",
       "      <td>Licença Maternidade</td>\n",
       "      <td>NaN</td>\n",
       "      <td>NaN</td>\n",
       "    </tr>\n",
       "    <tr>\n",
       "      <th>6</th>\n",
       "      <td>30515</td>\n",
       "      <td>Licença Maternidade</td>\n",
       "      <td>30515.0</td>\n",
       "      <td>retorno de férias + licença em 11/06</td>\n",
       "    </tr>\n",
       "    <tr>\n",
       "      <th>7</th>\n",
       "      <td>34526</td>\n",
       "      <td>Licença Maternidade</td>\n",
       "      <td>34526.0</td>\n",
       "      <td>retorno de férias + licença em 12/06</td>\n",
       "    </tr>\n",
       "    <tr>\n",
       "      <th>8</th>\n",
       "      <td>34357</td>\n",
       "      <td>Licença Maternidade</td>\n",
       "      <td>NaN</td>\n",
       "      <td>NaN</td>\n",
       "    </tr>\n",
       "    <tr>\n",
       "      <th>9</th>\n",
       "      <td>34539</td>\n",
       "      <td>Licença Maternidade</td>\n",
       "      <td>34539.0</td>\n",
       "      <td>retorno da licença em 04/06</td>\n",
       "    </tr>\n",
       "    <tr>\n",
       "      <th>10</th>\n",
       "      <td>34330</td>\n",
       "      <td>Auxílio Doença</td>\n",
       "      <td>NaN</td>\n",
       "      <td>NaN</td>\n",
       "    </tr>\n",
       "    <tr>\n",
       "      <th>11</th>\n",
       "      <td>30264</td>\n",
       "      <td>Licença Maternidade</td>\n",
       "      <td>NaN</td>\n",
       "      <td>NaN</td>\n",
       "    </tr>\n",
       "    <tr>\n",
       "      <th>12</th>\n",
       "      <td>32345</td>\n",
       "      <td>Licença Maternidade</td>\n",
       "      <td>32345.0</td>\n",
       "      <td>retorno de férias + licença em 26/05</td>\n",
       "    </tr>\n",
       "    <tr>\n",
       "      <th>13</th>\n",
       "      <td>30200</td>\n",
       "      <td>Licença Maternidade</td>\n",
       "      <td>NaN</td>\n",
       "      <td>NaN</td>\n",
       "    </tr>\n",
       "    <tr>\n",
       "      <th>14</th>\n",
       "      <td>34867</td>\n",
       "      <td>Auxílio Doença</td>\n",
       "      <td>NaN</td>\n",
       "      <td>NaN</td>\n",
       "    </tr>\n",
       "    <tr>\n",
       "      <th>15</th>\n",
       "      <td>34986</td>\n",
       "      <td>Auxílio Doença</td>\n",
       "      <td>NaN</td>\n",
       "      <td>NaN</td>\n",
       "    </tr>\n",
       "    <tr>\n",
       "      <th>16</th>\n",
       "      <td>34731</td>\n",
       "      <td>Auxílio Doença</td>\n",
       "      <td>NaN</td>\n",
       "      <td>NaN</td>\n",
       "    </tr>\n",
       "    <tr>\n",
       "      <th>17</th>\n",
       "      <td>34901</td>\n",
       "      <td>Auxílio Doença</td>\n",
       "      <td>NaN</td>\n",
       "      <td>NaN</td>\n",
       "    </tr>\n",
       "    <tr>\n",
       "      <th>18</th>\n",
       "      <td>33106</td>\n",
       "      <td>Licença Maternidade</td>\n",
       "      <td>33106.0</td>\n",
       "      <td>retorno da licença em 05/06</td>\n",
       "    </tr>\n",
       "    <tr>\n",
       "      <th>19</th>\n",
       "      <td>25233</td>\n",
       "      <td>Auxílio Doença</td>\n",
       "      <td>NaN</td>\n",
       "      <td>NaN</td>\n",
       "    </tr>\n",
       "  </tbody>\n",
       "</table>\n",
       "</div>"
      ],
      "text/plain": [
       "    MATRICULA       DESC. SITUACAO  na compra?  \\\n",
       "0       32572  Licença Maternidade         NaN   \n",
       "1       25961  Licença Maternidade         NaN   \n",
       "2       21151       Auxílio Doença         NaN   \n",
       "3       25857       Auxílio Doença         NaN   \n",
       "4       31326  Licença Maternidade         NaN   \n",
       "5       32930  Licença Maternidade         NaN   \n",
       "6       30515  Licença Maternidade     30515.0   \n",
       "7       34526  Licença Maternidade     34526.0   \n",
       "8       34357  Licença Maternidade         NaN   \n",
       "9       34539  Licença Maternidade     34539.0   \n",
       "10      34330       Auxílio Doença         NaN   \n",
       "11      30264  Licença Maternidade         NaN   \n",
       "12      32345  Licença Maternidade     32345.0   \n",
       "13      30200  Licença Maternidade         NaN   \n",
       "14      34867       Auxílio Doença         NaN   \n",
       "15      34986       Auxílio Doença         NaN   \n",
       "16      34731       Auxílio Doença         NaN   \n",
       "17      34901       Auxílio Doença         NaN   \n",
       "18      33106  Licença Maternidade     33106.0   \n",
       "19      25233       Auxílio Doença         NaN   \n",
       "\n",
       "                              Unnamed: 3  \n",
       "0                                    NaN  \n",
       "1                                    NaN  \n",
       "2                                    NaN  \n",
       "3                                    NaN  \n",
       "4                                    NaN  \n",
       "5                                    NaN  \n",
       "6   retorno de férias + licença em 11/06  \n",
       "7   retorno de férias + licença em 12/06  \n",
       "8                                    NaN  \n",
       "9            retorno da licença em 04/06  \n",
       "10                                   NaN  \n",
       "11                                   NaN  \n",
       "12  retorno de férias + licença em 26/05  \n",
       "13                                   NaN  \n",
       "14                                   NaN  \n",
       "15                                   NaN  \n",
       "16                                   NaN  \n",
       "17                                   NaN  \n",
       "18           retorno da licença em 05/06  \n",
       "19                                   NaN  "
      ]
     },
     "execution_count": 3648,
     "metadata": {},
     "output_type": "execute_result"
    }
   ],
   "source": [
    "df_afastamentos"
   ]
  },
  {
   "cell_type": "markdown",
   "id": "058ccbee",
   "metadata": {},
   "source": [
    "Existem afastamentos com data de encerramento. Pode fazer sentido preservar a data de retorno\n",
    "\n",
    "Essa coluna também está com um nome estranho -> Unnamed: 3"
   ]
  },
  {
   "cell_type": "code",
   "execution_count": 3649,
   "id": "a77d0397",
   "metadata": {},
   "outputs": [],
   "source": [
    "df_afastamentos = df_afastamentos.rename(columns = {\"Unnamed: 3\": \"OBS_AFASTAMENTO\"})"
   ]
  },
  {
   "cell_type": "code",
   "execution_count": 3650,
   "id": "84900575",
   "metadata": {},
   "outputs": [],
   "source": [
    "mask = df_afastamentos['OBS_AFASTAMENTO'].str.contains(r'(?i)\\bretorno\\b', na=False)\n",
    "\n",
    "\n",
    "df_afastamentos.loc[mask, 'RETORNO_APÓS_AFASTAMENTO'] = df_afastamentos.loc[mask, 'OBS_AFASTAMENTO'].str.extract(\n",
    "    r'(\\d{1,2}\\s*/\\s*\\d{1,2})', expand=False\n",
    ").str.replace(r'\\s*\\/\\s*', '/', regex=True)"
   ]
  },
  {
   "cell_type": "code",
   "execution_count": 3651,
   "id": "4d79a36a",
   "metadata": {},
   "outputs": [
    {
     "data": {
      "text/html": [
       "<div>\n",
       "<style scoped>\n",
       "    .dataframe tbody tr th:only-of-type {\n",
       "        vertical-align: middle;\n",
       "    }\n",
       "\n",
       "    .dataframe tbody tr th {\n",
       "        vertical-align: top;\n",
       "    }\n",
       "\n",
       "    .dataframe thead th {\n",
       "        text-align: right;\n",
       "    }\n",
       "</style>\n",
       "<table border=\"1\" class=\"dataframe\">\n",
       "  <thead>\n",
       "    <tr style=\"text-align: right;\">\n",
       "      <th></th>\n",
       "      <th>MATRICULA</th>\n",
       "      <th>DESC. SITUACAO</th>\n",
       "      <th>na compra?</th>\n",
       "      <th>OBS_AFASTAMENTO</th>\n",
       "      <th>RETORNO_APÓS_AFASTAMENTO</th>\n",
       "    </tr>\n",
       "  </thead>\n",
       "  <tbody>\n",
       "    <tr>\n",
       "      <th>0</th>\n",
       "      <td>32572</td>\n",
       "      <td>Licença Maternidade</td>\n",
       "      <td>NaN</td>\n",
       "      <td>NaN</td>\n",
       "      <td>NaN</td>\n",
       "    </tr>\n",
       "    <tr>\n",
       "      <th>1</th>\n",
       "      <td>25961</td>\n",
       "      <td>Licença Maternidade</td>\n",
       "      <td>NaN</td>\n",
       "      <td>NaN</td>\n",
       "      <td>NaN</td>\n",
       "    </tr>\n",
       "    <tr>\n",
       "      <th>2</th>\n",
       "      <td>21151</td>\n",
       "      <td>Auxílio Doença</td>\n",
       "      <td>NaN</td>\n",
       "      <td>NaN</td>\n",
       "      <td>NaN</td>\n",
       "    </tr>\n",
       "    <tr>\n",
       "      <th>3</th>\n",
       "      <td>25857</td>\n",
       "      <td>Auxílio Doença</td>\n",
       "      <td>NaN</td>\n",
       "      <td>NaN</td>\n",
       "      <td>NaN</td>\n",
       "    </tr>\n",
       "    <tr>\n",
       "      <th>4</th>\n",
       "      <td>31326</td>\n",
       "      <td>Licença Maternidade</td>\n",
       "      <td>NaN</td>\n",
       "      <td>NaN</td>\n",
       "      <td>NaN</td>\n",
       "    </tr>\n",
       "    <tr>\n",
       "      <th>5</th>\n",
       "      <td>32930</td>\n",
       "      <td>Licença Maternidade</td>\n",
       "      <td>NaN</td>\n",
       "      <td>NaN</td>\n",
       "      <td>NaN</td>\n",
       "    </tr>\n",
       "    <tr>\n",
       "      <th>6</th>\n",
       "      <td>30515</td>\n",
       "      <td>Licença Maternidade</td>\n",
       "      <td>30515.0</td>\n",
       "      <td>retorno de férias + licença em 11/06</td>\n",
       "      <td>11/06</td>\n",
       "    </tr>\n",
       "    <tr>\n",
       "      <th>7</th>\n",
       "      <td>34526</td>\n",
       "      <td>Licença Maternidade</td>\n",
       "      <td>34526.0</td>\n",
       "      <td>retorno de férias + licença em 12/06</td>\n",
       "      <td>12/06</td>\n",
       "    </tr>\n",
       "    <tr>\n",
       "      <th>8</th>\n",
       "      <td>34357</td>\n",
       "      <td>Licença Maternidade</td>\n",
       "      <td>NaN</td>\n",
       "      <td>NaN</td>\n",
       "      <td>NaN</td>\n",
       "    </tr>\n",
       "    <tr>\n",
       "      <th>9</th>\n",
       "      <td>34539</td>\n",
       "      <td>Licença Maternidade</td>\n",
       "      <td>34539.0</td>\n",
       "      <td>retorno da licença em 04/06</td>\n",
       "      <td>04/06</td>\n",
       "    </tr>\n",
       "    <tr>\n",
       "      <th>10</th>\n",
       "      <td>34330</td>\n",
       "      <td>Auxílio Doença</td>\n",
       "      <td>NaN</td>\n",
       "      <td>NaN</td>\n",
       "      <td>NaN</td>\n",
       "    </tr>\n",
       "    <tr>\n",
       "      <th>11</th>\n",
       "      <td>30264</td>\n",
       "      <td>Licença Maternidade</td>\n",
       "      <td>NaN</td>\n",
       "      <td>NaN</td>\n",
       "      <td>NaN</td>\n",
       "    </tr>\n",
       "    <tr>\n",
       "      <th>12</th>\n",
       "      <td>32345</td>\n",
       "      <td>Licença Maternidade</td>\n",
       "      <td>32345.0</td>\n",
       "      <td>retorno de férias + licença em 26/05</td>\n",
       "      <td>26/05</td>\n",
       "    </tr>\n",
       "    <tr>\n",
       "      <th>13</th>\n",
       "      <td>30200</td>\n",
       "      <td>Licença Maternidade</td>\n",
       "      <td>NaN</td>\n",
       "      <td>NaN</td>\n",
       "      <td>NaN</td>\n",
       "    </tr>\n",
       "    <tr>\n",
       "      <th>14</th>\n",
       "      <td>34867</td>\n",
       "      <td>Auxílio Doença</td>\n",
       "      <td>NaN</td>\n",
       "      <td>NaN</td>\n",
       "      <td>NaN</td>\n",
       "    </tr>\n",
       "    <tr>\n",
       "      <th>15</th>\n",
       "      <td>34986</td>\n",
       "      <td>Auxílio Doença</td>\n",
       "      <td>NaN</td>\n",
       "      <td>NaN</td>\n",
       "      <td>NaN</td>\n",
       "    </tr>\n",
       "    <tr>\n",
       "      <th>16</th>\n",
       "      <td>34731</td>\n",
       "      <td>Auxílio Doença</td>\n",
       "      <td>NaN</td>\n",
       "      <td>NaN</td>\n",
       "      <td>NaN</td>\n",
       "    </tr>\n",
       "    <tr>\n",
       "      <th>17</th>\n",
       "      <td>34901</td>\n",
       "      <td>Auxílio Doença</td>\n",
       "      <td>NaN</td>\n",
       "      <td>NaN</td>\n",
       "      <td>NaN</td>\n",
       "    </tr>\n",
       "    <tr>\n",
       "      <th>18</th>\n",
       "      <td>33106</td>\n",
       "      <td>Licença Maternidade</td>\n",
       "      <td>33106.0</td>\n",
       "      <td>retorno da licença em 05/06</td>\n",
       "      <td>05/06</td>\n",
       "    </tr>\n",
       "    <tr>\n",
       "      <th>19</th>\n",
       "      <td>25233</td>\n",
       "      <td>Auxílio Doença</td>\n",
       "      <td>NaN</td>\n",
       "      <td>NaN</td>\n",
       "      <td>NaN</td>\n",
       "    </tr>\n",
       "  </tbody>\n",
       "</table>\n",
       "</div>"
      ],
      "text/plain": [
       "    MATRICULA       DESC. SITUACAO  na compra?  \\\n",
       "0       32572  Licença Maternidade         NaN   \n",
       "1       25961  Licença Maternidade         NaN   \n",
       "2       21151       Auxílio Doença         NaN   \n",
       "3       25857       Auxílio Doença         NaN   \n",
       "4       31326  Licença Maternidade         NaN   \n",
       "5       32930  Licença Maternidade         NaN   \n",
       "6       30515  Licença Maternidade     30515.0   \n",
       "7       34526  Licença Maternidade     34526.0   \n",
       "8       34357  Licença Maternidade         NaN   \n",
       "9       34539  Licença Maternidade     34539.0   \n",
       "10      34330       Auxílio Doença         NaN   \n",
       "11      30264  Licença Maternidade         NaN   \n",
       "12      32345  Licença Maternidade     32345.0   \n",
       "13      30200  Licença Maternidade         NaN   \n",
       "14      34867       Auxílio Doença         NaN   \n",
       "15      34986       Auxílio Doença         NaN   \n",
       "16      34731       Auxílio Doença         NaN   \n",
       "17      34901       Auxílio Doença         NaN   \n",
       "18      33106  Licença Maternidade     33106.0   \n",
       "19      25233       Auxílio Doença         NaN   \n",
       "\n",
       "                         OBS_AFASTAMENTO RETORNO_APÓS_AFASTAMENTO  \n",
       "0                                    NaN                      NaN  \n",
       "1                                    NaN                      NaN  \n",
       "2                                    NaN                      NaN  \n",
       "3                                    NaN                      NaN  \n",
       "4                                    NaN                      NaN  \n",
       "5                                    NaN                      NaN  \n",
       "6   retorno de férias + licença em 11/06                    11/06  \n",
       "7   retorno de férias + licença em 12/06                    12/06  \n",
       "8                                    NaN                      NaN  \n",
       "9            retorno da licença em 04/06                    04/06  \n",
       "10                                   NaN                      NaN  \n",
       "11                                   NaN                      NaN  \n",
       "12  retorno de férias + licença em 26/05                    26/05  \n",
       "13                                   NaN                      NaN  \n",
       "14                                   NaN                      NaN  \n",
       "15                                   NaN                      NaN  \n",
       "16                                   NaN                      NaN  \n",
       "17                                   NaN                      NaN  \n",
       "18           retorno da licença em 05/06                    05/06  \n",
       "19                                   NaN                      NaN  "
      ]
     },
     "execution_count": 3651,
     "metadata": {},
     "output_type": "execute_result"
    }
   ],
   "source": [
    "df_afastamentos"
   ]
  },
  {
   "cell_type": "markdown",
   "id": "e4f27978",
   "metadata": {},
   "source": [
    "Apenas os casos sem data de retorno serão eliminados, os outros serão agregados na tabela df_final"
   ]
  },
  {
   "cell_type": "code",
   "execution_count": 3652,
   "id": "e61e303f",
   "metadata": {},
   "outputs": [],
   "source": [
    "matriculas_para_eliminar = df_afastamentos[\"MATRICULA\"].unique().tolist()"
   ]
  },
  {
   "cell_type": "code",
   "execution_count": 3653,
   "id": "b167e509",
   "metadata": {},
   "outputs": [],
   "source": [
    "df_final = df_final[~df_final[\"MATRICULA\"].isin(matriculas_para_eliminar)].copy()"
   ]
  },
  {
   "cell_type": "code",
   "execution_count": 3654,
   "id": "fec66090",
   "metadata": {},
   "outputs": [
    {
     "data": {
      "text/plain": [
       "Sindicato\n",
       "SINDPPD RS - SINDICATO DOS TRAB. EM PROC. DE DADOS RIO GRANDE DO SUL                              1135\n",
       "SINDPD SP - SIND.TRAB.EM PROC DADOS E EMPR.EMPRESAS PROC DADOS ESTADO DE SP.                       419\n",
       "SITEPD PR - SIND DOS TRAB EM EMPR PRIVADAS DE PROC DE DADOS DE CURITIBA E REGIAO METROPOLITANA     140\n",
       "SINDPD RJ - SINDICATO PROFISSIONAIS DE PROC DADOS DO RIO DE JANEIRO                                101\n",
       "Name: count, dtype: int64"
      ]
     },
     "execution_count": 3654,
     "metadata": {},
     "output_type": "execute_result"
    }
   ],
   "source": [
    "df_final[\"Sindicato\"].value_counts()"
   ]
  },
  {
   "cell_type": "markdown",
   "id": "6841b56f",
   "metadata": {},
   "source": [
    "### Eliminação de profissionais que atuam no exterior"
   ]
  },
  {
   "cell_type": "code",
   "execution_count": 3655,
   "id": "3eb3ab17",
   "metadata": {},
   "outputs": [
    {
     "data": {
      "text/html": [
       "<div>\n",
       "<style scoped>\n",
       "    .dataframe tbody tr th:only-of-type {\n",
       "        vertical-align: middle;\n",
       "    }\n",
       "\n",
       "    .dataframe tbody tr th {\n",
       "        vertical-align: top;\n",
       "    }\n",
       "\n",
       "    .dataframe thead th {\n",
       "        text-align: right;\n",
       "    }\n",
       "</style>\n",
       "<table border=\"1\" class=\"dataframe\">\n",
       "  <thead>\n",
       "    <tr style=\"text-align: right;\">\n",
       "      <th></th>\n",
       "      <th>Cadastro</th>\n",
       "      <th>Valor</th>\n",
       "      <th>Unnamed: 2</th>\n",
       "    </tr>\n",
       "  </thead>\n",
       "  <tbody>\n",
       "    <tr>\n",
       "      <th>0</th>\n",
       "      <td>29306</td>\n",
       "      <td>28.0</td>\n",
       "      <td>desligado</td>\n",
       "    </tr>\n",
       "    <tr>\n",
       "      <th>1</th>\n",
       "      <td>31227</td>\n",
       "      <td>554.4</td>\n",
       "      <td>RETORNOU DO EXTERIOR - devido o pgto</td>\n",
       "    </tr>\n",
       "    <tr>\n",
       "      <th>2</th>\n",
       "      <td>32967</td>\n",
       "      <td>660.0</td>\n",
       "      <td>removido</td>\n",
       "    </tr>\n",
       "    <tr>\n",
       "      <th>3</th>\n",
       "      <td>34884</td>\n",
       "      <td>554.4</td>\n",
       "      <td>NaN</td>\n",
       "    </tr>\n",
       "  </tbody>\n",
       "</table>\n",
       "</div>"
      ],
      "text/plain": [
       "   Cadastro  Valor                            Unnamed: 2\n",
       "0     29306   28.0                             desligado\n",
       "1     31227  554.4  RETORNOU DO EXTERIOR - devido o pgto\n",
       "2     32967  660.0                              removido\n",
       "3     34884  554.4                                   NaN"
      ]
     },
     "execution_count": 3655,
     "metadata": {},
     "output_type": "execute_result"
    }
   ],
   "source": [
    "df_exterior"
   ]
  },
  {
   "cell_type": "markdown",
   "id": "6eeea5ee",
   "metadata": {},
   "source": [
    "Aparentemente, apenas eliminar com base nas matrículas que constam nessa tabela, não é necessário agregar"
   ]
  },
  {
   "cell_type": "code",
   "execution_count": 3656,
   "id": "cc3e0393",
   "metadata": {},
   "outputs": [],
   "source": [
    "cadastros_para_eliminar = df_exterior[\"Cadastro\"].unique().tolist()"
   ]
  },
  {
   "cell_type": "code",
   "execution_count": 3657,
   "id": "6c8d6c1c",
   "metadata": {},
   "outputs": [
    {
     "data": {
      "text/html": [
       "<div>\n",
       "<style scoped>\n",
       "    .dataframe tbody tr th:only-of-type {\n",
       "        vertical-align: middle;\n",
       "    }\n",
       "\n",
       "    .dataframe tbody tr th {\n",
       "        vertical-align: top;\n",
       "    }\n",
       "\n",
       "    .dataframe thead th {\n",
       "        text-align: right;\n",
       "    }\n",
       "</style>\n",
       "<table border=\"1\" class=\"dataframe\">\n",
       "  <thead>\n",
       "    <tr style=\"text-align: right;\">\n",
       "      <th></th>\n",
       "      <th>MATRICULA</th>\n",
       "      <th>EMPRESA</th>\n",
       "      <th>TITULO DO CARGO</th>\n",
       "      <th>DESC. SITUACAO</th>\n",
       "      <th>Sindicato</th>\n",
       "      <th>DIAS DE FÉRIAS</th>\n",
       "      <th>DATA DEMISSÃO</th>\n",
       "      <th>COMUNICADO DE DESLIGAMENTO</th>\n",
       "      <th>DATA_DE_ADMISSAO_MES_ATUAL</th>\n",
       "      <th>INFO_ADMITIDOS_MES</th>\n",
       "      <th>ESTADO_SINDICATO_SIGLA</th>\n",
       "      <th>ESTADO_SINDICATO</th>\n",
       "      <th>VALOR_SINDICATO</th>\n",
       "      <th>DIAS UTEIS</th>\n",
       "    </tr>\n",
       "  </thead>\n",
       "  <tbody>\n",
       "    <tr>\n",
       "      <th>434</th>\n",
       "      <td>31227</td>\n",
       "      <td>1410</td>\n",
       "      <td>ANALISTA DE PROCESSOS III</td>\n",
       "      <td>Trabalhando</td>\n",
       "      <td>SINDPPD RS - SINDICATO DOS TRAB. EM PROC. DE D...</td>\n",
       "      <td>0.0</td>\n",
       "      <td>NaT</td>\n",
       "      <td>NaN</td>\n",
       "      <td>NaT</td>\n",
       "      <td>NaN</td>\n",
       "      <td>RS</td>\n",
       "      <td>Rio Grande do Sul</td>\n",
       "      <td>35.0</td>\n",
       "      <td>21</td>\n",
       "    </tr>\n",
       "  </tbody>\n",
       "</table>\n",
       "</div>"
      ],
      "text/plain": [
       "     MATRICULA  EMPRESA            TITULO DO CARGO DESC. SITUACAO  \\\n",
       "434      31227     1410  ANALISTA DE PROCESSOS III    Trabalhando   \n",
       "\n",
       "                                             Sindicato  DIAS DE FÉRIAS  \\\n",
       "434  SINDPPD RS - SINDICATO DOS TRAB. EM PROC. DE D...             0.0   \n",
       "\n",
       "    DATA DEMISSÃO COMUNICADO DE DESLIGAMENTO DATA_DE_ADMISSAO_MES_ATUAL  \\\n",
       "434           NaT                        NaN                        NaT   \n",
       "\n",
       "    INFO_ADMITIDOS_MES ESTADO_SINDICATO_SIGLA   ESTADO_SINDICATO  \\\n",
       "434                NaN                     RS  Rio Grande do Sul   \n",
       "\n",
       "     VALOR_SINDICATO  DIAS UTEIS  \n",
       "434             35.0          21  "
      ]
     },
     "execution_count": 3657,
     "metadata": {},
     "output_type": "execute_result"
    }
   ],
   "source": [
    "df_final[df_final[\"MATRICULA\"].isin(cadastros_para_eliminar)]"
   ]
  },
  {
   "cell_type": "markdown",
   "id": "2eb0b51a",
   "metadata": {},
   "source": [
    "Existe um caso na base completa, mas via de regra sempre buscaremos eliminar todos"
   ]
  },
  {
   "cell_type": "code",
   "execution_count": 3658,
   "id": "b616ce84",
   "metadata": {},
   "outputs": [],
   "source": [
    "df_final = df_final[~df_final[\"MATRICULA\"].isin(cadastros_para_eliminar)].copy()"
   ]
  },
  {
   "cell_type": "markdown",
   "id": "ac402c81",
   "metadata": {},
   "source": [
    "## Validar e corrigir"
   ]
  },
  {
   "cell_type": "code",
   "execution_count": 3659,
   "id": "6af661c6",
   "metadata": {},
   "outputs": [
    {
     "name": "stdout",
     "output_type": "stream",
     "text": [
      "<class 'pandas.core.frame.DataFrame'>\n",
      "Index: 1794 entries, 0 to 1814\n",
      "Data columns (total 14 columns):\n",
      " #   Column                      Non-Null Count  Dtype         \n",
      "---  ------                      --------------  -----         \n",
      " 0   MATRICULA                   1794 non-null   int64         \n",
      " 1   EMPRESA                     1794 non-null   int64         \n",
      " 2   TITULO DO CARGO             1794 non-null   object        \n",
      " 3   DESC. SITUACAO              1794 non-null   object        \n",
      " 4   Sindicato                   1794 non-null   object        \n",
      " 5   DIAS DE FÉRIAS              1794 non-null   float64       \n",
      " 6   DATA DEMISSÃO               3 non-null      datetime64[ns]\n",
      " 7   COMUNICADO DE DESLIGAMENTO  2 non-null      object        \n",
      " 8   DATA_DE_ADMISSAO_MES_ATUAL  73 non-null     datetime64[ns]\n",
      " 9   INFO_ADMITIDOS_MES          0 non-null      object        \n",
      " 10  ESTADO_SINDICATO_SIGLA      1794 non-null   object        \n",
      " 11  ESTADO_SINDICATO            1794 non-null   object        \n",
      " 12  VALOR_SINDICATO             1794 non-null   float64       \n",
      " 13  DIAS UTEIS                  1794 non-null   int64         \n",
      "dtypes: datetime64[ns](2), float64(2), int64(3), object(7)\n",
      "memory usage: 210.2+ KB\n"
     ]
    }
   ],
   "source": [
    "df_final.info()"
   ]
  },
  {
   "cell_type": "code",
   "execution_count": 3660,
   "id": "2937d0b1",
   "metadata": {},
   "outputs": [
    {
     "data": {
      "text/plain": [
       "DATA DEMISSÃO\n",
       "NaT           1791\n",
       "2025-05-29       1\n",
       "2025-05-09       1\n",
       "2025-05-15       1\n",
       "Name: count, dtype: int64"
      ]
     },
     "execution_count": 3660,
     "metadata": {},
     "output_type": "execute_result"
    }
   ],
   "source": [
    "df_final[\"DATA DEMISSÃO\"].value_counts(dropna=False)"
   ]
  },
  {
   "cell_type": "code",
   "execution_count": 3661,
   "id": "e2c878f3",
   "metadata": {},
   "outputs": [
    {
     "data": {
      "text/plain": [
       "DATA_DE_ADMISSAO_MES_ATUAL\n",
       "NaT           1721\n",
       "2025-04-01      14\n",
       "2025-04-02       7\n",
       "2025-04-07       6\n",
       "2025-04-22       6\n",
       "2025-04-16       5\n",
       "2025-04-14       5\n",
       "2025-04-23       5\n",
       "2025-04-17       4\n",
       "2025-04-03       4\n",
       "2025-04-10       3\n",
       "2025-04-28       3\n",
       "2025-04-08       3\n",
       "2025-04-11       2\n",
       "2025-04-25       2\n",
       "2025-04-24       2\n",
       "2025-04-15       1\n",
       "2025-04-09       1\n",
       "Name: count, dtype: int64"
      ]
     },
     "execution_count": 3661,
     "metadata": {},
     "output_type": "execute_result"
    }
   ],
   "source": [
    "df_final[\"DATA_DE_ADMISSAO_MES_ATUAL\"].value_counts(dropna=False)"
   ]
  },
  {
   "cell_type": "markdown",
   "id": "d3e958ea",
   "metadata": {},
   "source": [
    "As datas não fazem sentido, o mês atual está como 04/25 enquanto existem demissões registradas em 05/25. \n",
    "\n",
    "Em um primeiro momento, vamos admitir que o mês está errado, e vamos corrigir para o mes atual. "
   ]
  },
  {
   "cell_type": "markdown",
   "id": "5d182cd5",
   "metadata": {},
   "source": [
    "Primeiro, é certo que um input ao agente será necessário com o mes atual, incluimos isso no dataframe"
   ]
  },
  {
   "cell_type": "code",
   "execution_count": 3662,
   "id": "fe794aa7",
   "metadata": {},
   "outputs": [],
   "source": [
    "df_final[\"MES_ATUAL\"] = 4 # será um input em linguagem natural\n",
    "df_final[\"ANO_ATUAL\"] = 2025 # também será um input em linguagem natural"
   ]
  },
  {
   "cell_type": "code",
   "execution_count": 3663,
   "id": "56d9c974",
   "metadata": {},
   "outputs": [
    {
     "data": {
      "text/plain": [
       "DIAS DE FÉRIAS\n",
       "0.0     1718\n",
       "30.0      22\n",
       "5.0       21\n",
       "10.0      11\n",
       "15.0      11\n",
       "20.0      11\n",
       "Name: count, dtype: int64"
      ]
     },
     "execution_count": 3663,
     "metadata": {},
     "output_type": "execute_result"
    }
   ],
   "source": [
    "df_final[\"DIAS DE FÉRIAS\"].value_counts()"
   ]
  },
  {
   "cell_type": "code",
   "execution_count": 3664,
   "id": "8fdaa330",
   "metadata": {},
   "outputs": [],
   "source": [
    "# # Ajusta a coluna para que o mês seja o mesmo do MES_ATUAL, mantendo o dia\n",
    "# def ajustar_mes_admissao(row):\n",
    "#     if pd.notnull(row[\"DATA_DE_ADMISSAO_MES_ATUAL\"]):\n",
    "#         data = pd.to_datetime(row[\"DATA_DE_ADMISSAO_MES_ATUAL\"])\n",
    "#         ano = int(row[\"ANO_ATUAL\"])\n",
    "#         mes = int(row[\"MES_ATUAL\"])\n",
    "#         # Troca ano e mês para o MES_ATUAL\n",
    "#         return data.replace(year=ano, month=mes)\n",
    "#     else:\n",
    "#         return pd.NaT\n",
    "\n",
    "# df_final[\"DATA_DE_ADMISSAO_MES_ATUAL\"] = df_final.apply(ajustar_mes_admissao, axis=1)"
   ]
  },
  {
   "cell_type": "markdown",
   "id": "9104df1a",
   "metadata": {},
   "source": [
    "## Cálculo da tabela resultante"
   ]
  },
  {
   "cell_type": "markdown",
   "id": "6ccb978c",
   "metadata": {},
   "source": [
    "### Extraindo dias úteis do mes atual"
   ]
  },
  {
   "cell_type": "code",
   "execution_count": 3665,
   "id": "28927c73",
   "metadata": {},
   "outputs": [],
   "source": [
    "cal = Brazil()"
   ]
  },
  {
   "cell_type": "code",
   "execution_count": 3666,
   "id": "4a5daf13",
   "metadata": {},
   "outputs": [],
   "source": [
    "# função que conta dias úteis considerando feriados do Brasil\n",
    "def business_days(year, month):\n",
    "    return cal.get_working_days_delta(\n",
    "        pd.Timestamp(year=year, month=month, day=1),\n",
    "        pd.Timestamp(year=year, month=month, day=pd.Period(f\"{year}-{month}\").days_in_month)\n",
    "    ) + 1  # +1 porque o intervalo é exclusivo no final\n",
    "\n",
    "# aplica para cada linha\n",
    "df_final[\"DIAS_UTEIS_MES_ATUAL\"] = df_final.apply(lambda x: business_days(x[\"ANO_ATUAL\"], x[\"MES_ATUAL\"]), axis=1)"
   ]
  },
  {
   "cell_type": "code",
   "execution_count": 3667,
   "id": "2c648a53",
   "metadata": {},
   "outputs": [],
   "source": [
    "def all_days_in_month(year, month):\n",
    "    start = pd.Timestamp(year=year, month=month, day=1)\n",
    "    end = start + pd.offsets.MonthEnd(0)  # último dia do mês\n",
    "    return pd.date_range(start, end, freq=\"D\")\n",
    "\n"
   ]
  },
  {
   "cell_type": "code",
   "execution_count": 3668,
   "id": "90b5b53f",
   "metadata": {},
   "outputs": [],
   "source": [
    "df_final[\"QTD_DIAS_NO_MES\"] = df_final.apply(\n",
    "    lambda row: calendar.monthrange(row[\"ANO_ATUAL\"], row[\"MES_ATUAL\"])[1], axis=1\n",
    ")"
   ]
  },
  {
   "cell_type": "code",
   "execution_count": 3669,
   "id": "4fc2533c",
   "metadata": {},
   "outputs": [
    {
     "data": {
      "text/plain": [
       "DIAS UTEIS\n",
       "21    1235\n",
       "22     559\n",
       "Name: count, dtype: int64"
      ]
     },
     "execution_count": 3669,
     "metadata": {},
     "output_type": "execute_result"
    }
   ],
   "source": [
    "df_final[\"DIAS UTEIS\"].value_counts(dropna=False)"
   ]
  },
  {
   "cell_type": "code",
   "execution_count": 3670,
   "id": "f83d0e0b",
   "metadata": {},
   "outputs": [
    {
     "data": {
      "text/plain": [
       "DATA DEMISSÃO  COMUNICADO DE DESLIGAMENTO\n",
       "NaT            NaN                           1791\n",
       "2025-05-09     OK                               1\n",
       "2025-05-15     OK                               1\n",
       "2025-05-29     NaN                              1\n",
       "Name: count, dtype: int64"
      ]
     },
     "execution_count": 3670,
     "metadata": {},
     "output_type": "execute_result"
    }
   ],
   "source": [
    "df_final[[\"DATA DEMISSÃO\", \"COMUNICADO DE DESLIGAMENTO\"]].value_counts(dropna=False)"
   ]
  },
  {
   "cell_type": "code",
   "execution_count": 3671,
   "id": "8f7d3b74",
   "metadata": {},
   "outputs": [],
   "source": [
    "pd.set_option('display.max_columns', None)"
   ]
  },
  {
   "cell_type": "code",
   "execution_count": 3672,
   "id": "febda8f1",
   "metadata": {},
   "outputs": [
    {
     "data": {
      "text/plain": [
       "DESC. SITUACAO\n",
       "Trabalhando    1716\n",
       "Férias           76\n",
       "Atestado          2\n",
       "Name: count, dtype: int64"
      ]
     },
     "execution_count": 3672,
     "metadata": {},
     "output_type": "execute_result"
    }
   ],
   "source": [
    "df_final[\"DESC. SITUACAO\"].value_counts()"
   ]
  },
  {
   "cell_type": "code",
   "execution_count": 3673,
   "id": "7fbe5d7d",
   "metadata": {},
   "outputs": [
    {
     "data": {
      "text/plain": [
       "Index(['MATRICULA', 'EMPRESA', 'TITULO DO CARGO', 'DESC. SITUACAO',\n",
       "       'Sindicato', 'DIAS DE FÉRIAS', 'DATA DEMISSÃO',\n",
       "       'COMUNICADO DE DESLIGAMENTO', 'DATA_DE_ADMISSAO_MES_ATUAL',\n",
       "       'INFO_ADMITIDOS_MES', 'ESTADO_SINDICATO_SIGLA', 'ESTADO_SINDICATO',\n",
       "       'VALOR_SINDICATO', 'DIAS UTEIS', 'MES_ATUAL', 'ANO_ATUAL',\n",
       "       'DIAS_UTEIS_MES_ATUAL', 'QTD_DIAS_NO_MES'],\n",
       "      dtype='object')"
      ]
     },
     "execution_count": 3673,
     "metadata": {},
     "output_type": "execute_result"
    }
   ],
   "source": [
    "df_final.columns"
   ]
  },
  {
   "cell_type": "markdown",
   "id": "d3f5a583",
   "metadata": {},
   "source": [
    "Criando booleano, caso tenha sido admitido no mes atual"
   ]
  },
  {
   "cell_type": "code",
   "execution_count": 3674,
   "id": "9bd7adc8",
   "metadata": {},
   "outputs": [],
   "source": [
    "df_final[\"ADMITIDO_NO_MES_ATUAL\"] = False \n",
    "\n",
    "df_final.loc[df_final[\"DATA_DE_ADMISSAO_MES_ATUAL\"].dt.month == df_final[\"MES_ATUAL\"], \"ADMITIDO_NO_MES_ATUAL\"] = True "
   ]
  },
  {
   "cell_type": "code",
   "execution_count": 3675,
   "id": "d0565d03",
   "metadata": {},
   "outputs": [],
   "source": [
    "def calcular_dias_validos(row):\n",
    "    dias_validos = row[\"DIAS_UTEIS_MES_ATUAL\"]\n",
    "\n",
    "    ano = int(row[\"ANO_ATUAL\"])\n",
    "    mes = int(row[\"MES_ATUAL\"])\n",
    "    inicio_mes = pd.Timestamp(year=ano, month=mes, day=1)\n",
    "    fim_mes = pd.Timestamp(year=ano, month=mes, day=calendar.monthrange(ano, mes)[1])\n",
    "\n",
    "    # --- Regras de Admissão ---\n",
    "    if row[\"ADMITIDO_NO_MES_ATUAL\"] and pd.notnull(row[\"DATA_DE_ADMISSAO_MES_ATUAL\"]):\n",
    "        data_adm = pd.to_datetime(row[\"DATA_DE_ADMISSAO_MES_ATUAL\"])\n",
    "        dias_validos = cal.get_working_days_delta(data_adm, fim_mes) + 1\n",
    "\n",
    "    # --- Regras de Demissão ---\n",
    "    if pd.notnull(row[\"DATA DEMISSÃO\"]):\n",
    "        data_dem = pd.to_datetime(row[\"DATA DEMISSÃO\"])\n",
    "        if data_dem.month == mes and data_dem.year == ano:\n",
    "            # até dia 15 e comunicado OK\n",
    "            if data_dem.day <= 15 and str(row[\"COMUNICADO DE DESLIGAMENTO\"]).upper() == \"OK\":\n",
    "                dias_validos = 0\n",
    "            else:\n",
    "                dias_validos = cal.get_working_days_delta(inicio_mes, data_dem) + 1\n",
    "\n",
    "    # --- Regras de Férias (apenas PR) ---\n",
    "    if row[\"ESTADO_SINDICATO_SIGLA\"] == \"PR\":\n",
    "        dias_validos -= int(row[\"DIAS DE FÉRIAS\"])\n",
    "\n",
    "    return max(dias_validos, 0)\n",
    "\n",
    "# Aplicar ao DataFrame\n",
    "df_final[\"DIAS_VALIDOS\"] = df_final.apply(calcular_dias_validos, axis=1)"
   ]
  },
  {
   "cell_type": "code",
   "execution_count": 3676,
   "id": "75ba05e5",
   "metadata": {},
   "outputs": [
    {
     "data": {
      "text/plain": [
       "Series([], Name: count, dtype: int64)"
      ]
     },
     "execution_count": 3676,
     "metadata": {},
     "output_type": "execute_result"
    }
   ],
   "source": [
    "df_final[df_final[\"DIAS_VALIDOS\"]>22][\"DATA_DE_ADMISSAO_MES_ATUAL\"].value_counts(dropna=False)"
   ]
  },
  {
   "cell_type": "markdown",
   "id": "ba56936b",
   "metadata": {},
   "source": [
    "Coluna dias úteis não é necessária, apenas a dias validos que será calculada"
   ]
  },
  {
   "cell_type": "code",
   "execution_count": 3677,
   "id": "32972251",
   "metadata": {},
   "outputs": [],
   "source": [
    "df_final = df_final.drop(columns = \"DIAS UTEIS\")"
   ]
  },
  {
   "cell_type": "markdown",
   "id": "d09356d4",
   "metadata": {},
   "source": [
    "É importante destacar que para descontar de maneira correta as férias seria necessário a data início de férias, para saber quantos dias úteis de ferias foram tirados\n",
    "\n",
    "Se sobrar tempo, vou detectar sempre se nas bases dos colaboradores do PR existe alguém de férias, o agente vai pedir para preencher a data de início para desconto, para cada matrícula necessária. \n",
    "\n",
    "Por enquanto, seguimos mesmo com esse erro (dias corridos ferias - dias uteis / teria que ser dias uteis ferias - dias uteis)"
   ]
  },
  {
   "cell_type": "code",
   "execution_count": 3678,
   "id": "d3a37560",
   "metadata": {},
   "outputs": [
    {
     "data": {
      "text/html": [
       "<div>\n",
       "<style scoped>\n",
       "    .dataframe tbody tr th:only-of-type {\n",
       "        vertical-align: middle;\n",
       "    }\n",
       "\n",
       "    .dataframe tbody tr th {\n",
       "        vertical-align: top;\n",
       "    }\n",
       "\n",
       "    .dataframe thead th {\n",
       "        text-align: right;\n",
       "    }\n",
       "</style>\n",
       "<table border=\"1\" class=\"dataframe\">\n",
       "  <thead>\n",
       "    <tr style=\"text-align: right;\">\n",
       "      <th></th>\n",
       "      <th>MATRICULA</th>\n",
       "      <th>EMPRESA</th>\n",
       "      <th>TITULO DO CARGO</th>\n",
       "      <th>DESC. SITUACAO</th>\n",
       "      <th>Sindicato</th>\n",
       "      <th>DIAS DE FÉRIAS</th>\n",
       "      <th>DATA DEMISSÃO</th>\n",
       "      <th>COMUNICADO DE DESLIGAMENTO</th>\n",
       "      <th>DATA_DE_ADMISSAO_MES_ATUAL</th>\n",
       "      <th>INFO_ADMITIDOS_MES</th>\n",
       "      <th>ESTADO_SINDICATO_SIGLA</th>\n",
       "      <th>ESTADO_SINDICATO</th>\n",
       "      <th>VALOR_SINDICATO</th>\n",
       "      <th>MES_ATUAL</th>\n",
       "      <th>ANO_ATUAL</th>\n",
       "      <th>DIAS_UTEIS_MES_ATUAL</th>\n",
       "      <th>QTD_DIAS_NO_MES</th>\n",
       "      <th>ADMITIDO_NO_MES_ATUAL</th>\n",
       "      <th>DIAS_VALIDOS</th>\n",
       "    </tr>\n",
       "  </thead>\n",
       "  <tbody>\n",
       "    <tr>\n",
       "      <th>1428</th>\n",
       "      <td>28927</td>\n",
       "      <td>1410</td>\n",
       "      <td>GERENTE DE GERACAO DE DEMANDAS</td>\n",
       "      <td>Férias</td>\n",
       "      <td>SITEPD PR - SIND DOS TRAB EM EMPR PRIVADAS DE ...</td>\n",
       "      <td>20.0</td>\n",
       "      <td>NaT</td>\n",
       "      <td>NaN</td>\n",
       "      <td>NaT</td>\n",
       "      <td>NaN</td>\n",
       "      <td>PR</td>\n",
       "      <td>Paraná</td>\n",
       "      <td>35.0</td>\n",
       "      <td>4</td>\n",
       "      <td>2025</td>\n",
       "      <td>21</td>\n",
       "      <td>30</td>\n",
       "      <td>False</td>\n",
       "      <td>1</td>\n",
       "    </tr>\n",
       "    <tr>\n",
       "      <th>1432</th>\n",
       "      <td>26210</td>\n",
       "      <td>1410</td>\n",
       "      <td>DESENVOLVEDOR III</td>\n",
       "      <td>Férias</td>\n",
       "      <td>SITEPD PR - SIND DOS TRAB EM EMPR PRIVADAS DE ...</td>\n",
       "      <td>5.0</td>\n",
       "      <td>NaT</td>\n",
       "      <td>NaN</td>\n",
       "      <td>NaT</td>\n",
       "      <td>NaN</td>\n",
       "      <td>PR</td>\n",
       "      <td>Paraná</td>\n",
       "      <td>35.0</td>\n",
       "      <td>4</td>\n",
       "      <td>2025</td>\n",
       "      <td>21</td>\n",
       "      <td>30</td>\n",
       "      <td>False</td>\n",
       "      <td>16</td>\n",
       "    </tr>\n",
       "    <tr>\n",
       "      <th>1442</th>\n",
       "      <td>26042</td>\n",
       "      <td>1410</td>\n",
       "      <td>ARQUITETO DE SOFTWARE III</td>\n",
       "      <td>Férias</td>\n",
       "      <td>SITEPD PR - SIND DOS TRAB EM EMPR PRIVADAS DE ...</td>\n",
       "      <td>30.0</td>\n",
       "      <td>NaT</td>\n",
       "      <td>NaN</td>\n",
       "      <td>NaT</td>\n",
       "      <td>NaN</td>\n",
       "      <td>PR</td>\n",
       "      <td>Paraná</td>\n",
       "      <td>35.0</td>\n",
       "      <td>4</td>\n",
       "      <td>2025</td>\n",
       "      <td>21</td>\n",
       "      <td>30</td>\n",
       "      <td>False</td>\n",
       "      <td>0</td>\n",
       "    </tr>\n",
       "    <tr>\n",
       "      <th>1455</th>\n",
       "      <td>34556</td>\n",
       "      <td>1410</td>\n",
       "      <td>DESENVOLVEDOR I</td>\n",
       "      <td>Férias</td>\n",
       "      <td>SITEPD PR - SIND DOS TRAB EM EMPR PRIVADAS DE ...</td>\n",
       "      <td>30.0</td>\n",
       "      <td>NaT</td>\n",
       "      <td>NaN</td>\n",
       "      <td>NaT</td>\n",
       "      <td>NaN</td>\n",
       "      <td>PR</td>\n",
       "      <td>Paraná</td>\n",
       "      <td>35.0</td>\n",
       "      <td>4</td>\n",
       "      <td>2025</td>\n",
       "      <td>21</td>\n",
       "      <td>30</td>\n",
       "      <td>False</td>\n",
       "      <td>0</td>\n",
       "    </tr>\n",
       "    <tr>\n",
       "      <th>1471</th>\n",
       "      <td>33753</td>\n",
       "      <td>1410</td>\n",
       "      <td>DESENVOLVEDOR III</td>\n",
       "      <td>Férias</td>\n",
       "      <td>SITEPD PR - SIND DOS TRAB EM EMPR PRIVADAS DE ...</td>\n",
       "      <td>30.0</td>\n",
       "      <td>NaT</td>\n",
       "      <td>NaN</td>\n",
       "      <td>NaT</td>\n",
       "      <td>NaN</td>\n",
       "      <td>PR</td>\n",
       "      <td>Paraná</td>\n",
       "      <td>35.0</td>\n",
       "      <td>4</td>\n",
       "      <td>2025</td>\n",
       "      <td>21</td>\n",
       "      <td>30</td>\n",
       "      <td>False</td>\n",
       "      <td>0</td>\n",
       "    </tr>\n",
       "    <tr>\n",
       "      <th>1479</th>\n",
       "      <td>32008</td>\n",
       "      <td>1410</td>\n",
       "      <td>DESENVOLVEDOR III</td>\n",
       "      <td>Férias</td>\n",
       "      <td>SITEPD PR - SIND DOS TRAB EM EMPR PRIVADAS DE ...</td>\n",
       "      <td>30.0</td>\n",
       "      <td>NaT</td>\n",
       "      <td>NaN</td>\n",
       "      <td>NaT</td>\n",
       "      <td>NaN</td>\n",
       "      <td>PR</td>\n",
       "      <td>Paraná</td>\n",
       "      <td>35.0</td>\n",
       "      <td>4</td>\n",
       "      <td>2025</td>\n",
       "      <td>21</td>\n",
       "      <td>30</td>\n",
       "      <td>False</td>\n",
       "      <td>0</td>\n",
       "    </tr>\n",
       "    <tr>\n",
       "      <th>1524</th>\n",
       "      <td>31007</td>\n",
       "      <td>1410</td>\n",
       "      <td>DESENVOLVEDOR II</td>\n",
       "      <td>Férias</td>\n",
       "      <td>SITEPD PR - SIND DOS TRAB EM EMPR PRIVADAS DE ...</td>\n",
       "      <td>30.0</td>\n",
       "      <td>NaT</td>\n",
       "      <td>NaN</td>\n",
       "      <td>NaT</td>\n",
       "      <td>NaN</td>\n",
       "      <td>PR</td>\n",
       "      <td>Paraná</td>\n",
       "      <td>35.0</td>\n",
       "      <td>4</td>\n",
       "      <td>2025</td>\n",
       "      <td>21</td>\n",
       "      <td>30</td>\n",
       "      <td>False</td>\n",
       "      <td>0</td>\n",
       "    </tr>\n",
       "    <tr>\n",
       "      <th>1531</th>\n",
       "      <td>26174</td>\n",
       "      <td>1410</td>\n",
       "      <td>CONSULTOR TECNICO SAP III</td>\n",
       "      <td>Férias</td>\n",
       "      <td>SITEPD PR - SIND DOS TRAB EM EMPR PRIVADAS DE ...</td>\n",
       "      <td>30.0</td>\n",
       "      <td>NaT</td>\n",
       "      <td>NaN</td>\n",
       "      <td>NaT</td>\n",
       "      <td>NaN</td>\n",
       "      <td>PR</td>\n",
       "      <td>Paraná</td>\n",
       "      <td>35.0</td>\n",
       "      <td>4</td>\n",
       "      <td>2025</td>\n",
       "      <td>21</td>\n",
       "      <td>30</td>\n",
       "      <td>False</td>\n",
       "      <td>0</td>\n",
       "    </tr>\n",
       "    <tr>\n",
       "      <th>1538</th>\n",
       "      <td>25330</td>\n",
       "      <td>1410</td>\n",
       "      <td>DESENVOLVEDOR III</td>\n",
       "      <td>Férias</td>\n",
       "      <td>SITEPD PR - SIND DOS TRAB EM EMPR PRIVADAS DE ...</td>\n",
       "      <td>30.0</td>\n",
       "      <td>NaT</td>\n",
       "      <td>NaN</td>\n",
       "      <td>NaT</td>\n",
       "      <td>NaN</td>\n",
       "      <td>PR</td>\n",
       "      <td>Paraná</td>\n",
       "      <td>35.0</td>\n",
       "      <td>4</td>\n",
       "      <td>2025</td>\n",
       "      <td>21</td>\n",
       "      <td>30</td>\n",
       "      <td>False</td>\n",
       "      <td>0</td>\n",
       "    </tr>\n",
       "  </tbody>\n",
       "</table>\n",
       "</div>"
      ],
      "text/plain": [
       "      MATRICULA  EMPRESA                 TITULO DO CARGO DESC. SITUACAO  \\\n",
       "1428      28927     1410  GERENTE DE GERACAO DE DEMANDAS         Férias   \n",
       "1432      26210     1410               DESENVOLVEDOR III         Férias   \n",
       "1442      26042     1410       ARQUITETO DE SOFTWARE III         Férias   \n",
       "1455      34556     1410                 DESENVOLVEDOR I         Férias   \n",
       "1471      33753     1410               DESENVOLVEDOR III         Férias   \n",
       "1479      32008     1410               DESENVOLVEDOR III         Férias   \n",
       "1524      31007     1410                DESENVOLVEDOR II         Férias   \n",
       "1531      26174     1410       CONSULTOR TECNICO SAP III         Férias   \n",
       "1538      25330     1410               DESENVOLVEDOR III         Férias   \n",
       "\n",
       "                                              Sindicato  DIAS DE FÉRIAS  \\\n",
       "1428  SITEPD PR - SIND DOS TRAB EM EMPR PRIVADAS DE ...            20.0   \n",
       "1432  SITEPD PR - SIND DOS TRAB EM EMPR PRIVADAS DE ...             5.0   \n",
       "1442  SITEPD PR - SIND DOS TRAB EM EMPR PRIVADAS DE ...            30.0   \n",
       "1455  SITEPD PR - SIND DOS TRAB EM EMPR PRIVADAS DE ...            30.0   \n",
       "1471  SITEPD PR - SIND DOS TRAB EM EMPR PRIVADAS DE ...            30.0   \n",
       "1479  SITEPD PR - SIND DOS TRAB EM EMPR PRIVADAS DE ...            30.0   \n",
       "1524  SITEPD PR - SIND DOS TRAB EM EMPR PRIVADAS DE ...            30.0   \n",
       "1531  SITEPD PR - SIND DOS TRAB EM EMPR PRIVADAS DE ...            30.0   \n",
       "1538  SITEPD PR - SIND DOS TRAB EM EMPR PRIVADAS DE ...            30.0   \n",
       "\n",
       "     DATA DEMISSÃO COMUNICADO DE DESLIGAMENTO DATA_DE_ADMISSAO_MES_ATUAL  \\\n",
       "1428           NaT                        NaN                        NaT   \n",
       "1432           NaT                        NaN                        NaT   \n",
       "1442           NaT                        NaN                        NaT   \n",
       "1455           NaT                        NaN                        NaT   \n",
       "1471           NaT                        NaN                        NaT   \n",
       "1479           NaT                        NaN                        NaT   \n",
       "1524           NaT                        NaN                        NaT   \n",
       "1531           NaT                        NaN                        NaT   \n",
       "1538           NaT                        NaN                        NaT   \n",
       "\n",
       "     INFO_ADMITIDOS_MES ESTADO_SINDICATO_SIGLA ESTADO_SINDICATO  \\\n",
       "1428                NaN                     PR           Paraná   \n",
       "1432                NaN                     PR           Paraná   \n",
       "1442                NaN                     PR           Paraná   \n",
       "1455                NaN                     PR           Paraná   \n",
       "1471                NaN                     PR           Paraná   \n",
       "1479                NaN                     PR           Paraná   \n",
       "1524                NaN                     PR           Paraná   \n",
       "1531                NaN                     PR           Paraná   \n",
       "1538                NaN                     PR           Paraná   \n",
       "\n",
       "      VALOR_SINDICATO  MES_ATUAL  ANO_ATUAL  DIAS_UTEIS_MES_ATUAL  \\\n",
       "1428             35.0          4       2025                    21   \n",
       "1432             35.0          4       2025                    21   \n",
       "1442             35.0          4       2025                    21   \n",
       "1455             35.0          4       2025                    21   \n",
       "1471             35.0          4       2025                    21   \n",
       "1479             35.0          4       2025                    21   \n",
       "1524             35.0          4       2025                    21   \n",
       "1531             35.0          4       2025                    21   \n",
       "1538             35.0          4       2025                    21   \n",
       "\n",
       "      QTD_DIAS_NO_MES  ADMITIDO_NO_MES_ATUAL  DIAS_VALIDOS  \n",
       "1428               30                  False             1  \n",
       "1432               30                  False            16  \n",
       "1442               30                  False             0  \n",
       "1455               30                  False             0  \n",
       "1471               30                  False             0  \n",
       "1479               30                  False             0  \n",
       "1524               30                  False             0  \n",
       "1531               30                  False             0  \n",
       "1538               30                  False             0  "
      ]
     },
     "execution_count": 3678,
     "metadata": {},
     "output_type": "execute_result"
    }
   ],
   "source": [
    "df_final[\n",
    "    (df_final[\"ESTADO_SINDICATO_SIGLA\"] == \"PR\")\n",
    "    &\n",
    "    (df_final[\"DIAS DE FÉRIAS\"] > 0 )]"
   ]
  },
  {
   "cell_type": "code",
   "execution_count": 3679,
   "id": "f3069f67",
   "metadata": {},
   "outputs": [
    {
     "data": {
      "text/plain": [
       "DIAS_VALIDOS\n",
       "21    1726\n",
       "20       7\n",
       "0        7\n",
       "7        6\n",
       "17       6\n",
       "10       5\n",
       "12       5\n",
       "6        5\n",
       "9        4\n",
       "19       4\n",
       "16       4\n",
       "14       3\n",
       "3        3\n",
       "13       2\n",
       "4        2\n",
       "5        2\n",
       "11       1\n",
       "15       1\n",
       "1        1\n",
       "Name: count, dtype: int64"
      ]
     },
     "execution_count": 3679,
     "metadata": {},
     "output_type": "execute_result"
    }
   ],
   "source": [
    "df_final[\"DIAS_VALIDOS\"].value_counts(dropna=False)"
   ]
  },
  {
   "cell_type": "markdown",
   "id": "18ad0fd2",
   "metadata": {},
   "source": [
    "## Realizando os cálculos para a planilha final"
   ]
  },
  {
   "cell_type": "code",
   "execution_count": 3680,
   "id": "89635610",
   "metadata": {},
   "outputs": [],
   "source": [
    "df_final[\"TOTAL\"] = df_final[\"DIAS_VALIDOS\"]*df_final[\"VALOR_SINDICATO\"]\n",
    "\n",
    "df_final[\"Custo empresa\"] = 0.8*df_final[\"TOTAL\"]\n",
    "\n",
    "df_final[\"Desconto profissional\"] = 0.2*df_final[\"TOTAL\"]"
   ]
  },
  {
   "cell_type": "code",
   "execution_count": 3681,
   "id": "19fe3dbf",
   "metadata": {},
   "outputs": [],
   "source": [
    "df_final[\"Competência\"] = df_final[\"MES_ATUAL\"].astype(str).str.zfill(2) + \"/\" + df_final[\"ANO_ATUAL\"].astype(str)"
   ]
  },
  {
   "cell_type": "code",
   "execution_count": 3682,
   "id": "91ffa22c",
   "metadata": {},
   "outputs": [
    {
     "data": {
      "text/plain": [
       "['MATRICULA',\n",
       " 'EMPRESA',\n",
       " 'TITULO DO CARGO',\n",
       " 'DESC. SITUACAO',\n",
       " 'Sindicato',\n",
       " 'DIAS DE FÉRIAS',\n",
       " 'DATA DEMISSÃO',\n",
       " 'COMUNICADO DE DESLIGAMENTO',\n",
       " 'DATA_DE_ADMISSAO_MES_ATUAL',\n",
       " 'INFO_ADMITIDOS_MES',\n",
       " 'ESTADO_SINDICATO_SIGLA',\n",
       " 'ESTADO_SINDICATO',\n",
       " 'VALOR_SINDICATO',\n",
       " 'MES_ATUAL',\n",
       " 'ANO_ATUAL',\n",
       " 'DIAS_UTEIS_MES_ATUAL',\n",
       " 'QTD_DIAS_NO_MES',\n",
       " 'ADMITIDO_NO_MES_ATUAL',\n",
       " 'DIAS_VALIDOS',\n",
       " 'TOTAL',\n",
       " 'Custo empresa',\n",
       " 'Desconto profissional',\n",
       " 'Competência']"
      ]
     },
     "execution_count": 3682,
     "metadata": {},
     "output_type": "execute_result"
    }
   ],
   "source": [
    "df_final.columns.unique().tolist()"
   ]
  },
  {
   "cell_type": "code",
   "execution_count": 3685,
   "id": "610c0235",
   "metadata": {},
   "outputs": [
    {
     "data": {
      "text/html": [
       "<div>\n",
       "<style scoped>\n",
       "    .dataframe tbody tr th:only-of-type {\n",
       "        vertical-align: middle;\n",
       "    }\n",
       "\n",
       "    .dataframe tbody tr th {\n",
       "        vertical-align: top;\n",
       "    }\n",
       "\n",
       "    .dataframe thead th {\n",
       "        text-align: right;\n",
       "    }\n",
       "</style>\n",
       "<table border=\"1\" class=\"dataframe\">\n",
       "  <thead>\n",
       "    <tr style=\"text-align: right;\">\n",
       "      <th></th>\n",
       "      <th>MATRICULA</th>\n",
       "      <th>Sindicato</th>\n",
       "      <th>Competência</th>\n",
       "      <th>DIAS_VALIDOS</th>\n",
       "      <th>VALOR_SINDICATO</th>\n",
       "      <th>TOTAL</th>\n",
       "      <th>Custo empresa</th>\n",
       "      <th>Desconto profissional</th>\n",
       "      <th>ESTADO_SINDICATO_SIGLA</th>\n",
       "    </tr>\n",
       "  </thead>\n",
       "  <tbody>\n",
       "    <tr>\n",
       "      <th>0</th>\n",
       "      <td>34941</td>\n",
       "      <td>SINDPD SP - SIND.TRAB.EM PROC DADOS E EMPR.EMP...</td>\n",
       "      <td>04/2025</td>\n",
       "      <td>21</td>\n",
       "      <td>37.5</td>\n",
       "      <td>787.5</td>\n",
       "      <td>630.0</td>\n",
       "      <td>157.5</td>\n",
       "      <td>SP</td>\n",
       "    </tr>\n",
       "    <tr>\n",
       "      <th>1</th>\n",
       "      <td>24401</td>\n",
       "      <td>SINDPPD RS - SINDICATO DOS TRAB. EM PROC. DE D...</td>\n",
       "      <td>04/2025</td>\n",
       "      <td>21</td>\n",
       "      <td>35.0</td>\n",
       "      <td>735.0</td>\n",
       "      <td>588.0</td>\n",
       "      <td>147.0</td>\n",
       "      <td>RS</td>\n",
       "    </tr>\n",
       "    <tr>\n",
       "      <th>2</th>\n",
       "      <td>32104</td>\n",
       "      <td>SINDPPD RS - SINDICATO DOS TRAB. EM PROC. DE D...</td>\n",
       "      <td>04/2025</td>\n",
       "      <td>21</td>\n",
       "      <td>35.0</td>\n",
       "      <td>735.0</td>\n",
       "      <td>588.0</td>\n",
       "      <td>147.0</td>\n",
       "      <td>RS</td>\n",
       "    </tr>\n",
       "    <tr>\n",
       "      <th>3</th>\n",
       "      <td>35254</td>\n",
       "      <td>SINDPPD RS - SINDICATO DOS TRAB. EM PROC. DE D...</td>\n",
       "      <td>04/2025</td>\n",
       "      <td>21</td>\n",
       "      <td>35.0</td>\n",
       "      <td>735.0</td>\n",
       "      <td>588.0</td>\n",
       "      <td>147.0</td>\n",
       "      <td>RS</td>\n",
       "    </tr>\n",
       "    <tr>\n",
       "      <th>4</th>\n",
       "      <td>31731</td>\n",
       "      <td>SINDPPD RS - SINDICATO DOS TRAB. EM PROC. DE D...</td>\n",
       "      <td>04/2025</td>\n",
       "      <td>21</td>\n",
       "      <td>35.0</td>\n",
       "      <td>735.0</td>\n",
       "      <td>588.0</td>\n",
       "      <td>147.0</td>\n",
       "      <td>RS</td>\n",
       "    </tr>\n",
       "    <tr>\n",
       "      <th>...</th>\n",
       "      <td>...</td>\n",
       "      <td>...</td>\n",
       "      <td>...</td>\n",
       "      <td>...</td>\n",
       "      <td>...</td>\n",
       "      <td>...</td>\n",
       "      <td>...</td>\n",
       "      <td>...</td>\n",
       "      <td>...</td>\n",
       "    </tr>\n",
       "    <tr>\n",
       "      <th>1810</th>\n",
       "      <td>32050</td>\n",
       "      <td>SINDPPD RS - SINDICATO DOS TRAB. EM PROC. DE D...</td>\n",
       "      <td>04/2025</td>\n",
       "      <td>21</td>\n",
       "      <td>35.0</td>\n",
       "      <td>735.0</td>\n",
       "      <td>588.0</td>\n",
       "      <td>147.0</td>\n",
       "      <td>RS</td>\n",
       "    </tr>\n",
       "    <tr>\n",
       "      <th>1811</th>\n",
       "      <td>32549</td>\n",
       "      <td>SINDPPD RS - SINDICATO DOS TRAB. EM PROC. DE D...</td>\n",
       "      <td>04/2025</td>\n",
       "      <td>21</td>\n",
       "      <td>35.0</td>\n",
       "      <td>735.0</td>\n",
       "      <td>588.0</td>\n",
       "      <td>147.0</td>\n",
       "      <td>RS</td>\n",
       "    </tr>\n",
       "    <tr>\n",
       "      <th>1812</th>\n",
       "      <td>31372</td>\n",
       "      <td>SINDPPD RS - SINDICATO DOS TRAB. EM PROC. DE D...</td>\n",
       "      <td>04/2025</td>\n",
       "      <td>21</td>\n",
       "      <td>35.0</td>\n",
       "      <td>735.0</td>\n",
       "      <td>588.0</td>\n",
       "      <td>147.0</td>\n",
       "      <td>RS</td>\n",
       "    </tr>\n",
       "    <tr>\n",
       "      <th>1813</th>\n",
       "      <td>31573</td>\n",
       "      <td>SINDPPD RS - SINDICATO DOS TRAB. EM PROC. DE D...</td>\n",
       "      <td>04/2025</td>\n",
       "      <td>21</td>\n",
       "      <td>35.0</td>\n",
       "      <td>735.0</td>\n",
       "      <td>588.0</td>\n",
       "      <td>147.0</td>\n",
       "      <td>RS</td>\n",
       "    </tr>\n",
       "    <tr>\n",
       "      <th>1814</th>\n",
       "      <td>35194</td>\n",
       "      <td>SINDPPD RS - SINDICATO DOS TRAB. EM PROC. DE D...</td>\n",
       "      <td>04/2025</td>\n",
       "      <td>21</td>\n",
       "      <td>35.0</td>\n",
       "      <td>735.0</td>\n",
       "      <td>588.0</td>\n",
       "      <td>147.0</td>\n",
       "      <td>RS</td>\n",
       "    </tr>\n",
       "  </tbody>\n",
       "</table>\n",
       "<p>1794 rows × 9 columns</p>\n",
       "</div>"
      ],
      "text/plain": [
       "      MATRICULA                                          Sindicato  \\\n",
       "0         34941  SINDPD SP - SIND.TRAB.EM PROC DADOS E EMPR.EMP...   \n",
       "1         24401  SINDPPD RS - SINDICATO DOS TRAB. EM PROC. DE D...   \n",
       "2         32104  SINDPPD RS - SINDICATO DOS TRAB. EM PROC. DE D...   \n",
       "3         35254  SINDPPD RS - SINDICATO DOS TRAB. EM PROC. DE D...   \n",
       "4         31731  SINDPPD RS - SINDICATO DOS TRAB. EM PROC. DE D...   \n",
       "...         ...                                                ...   \n",
       "1810      32050  SINDPPD RS - SINDICATO DOS TRAB. EM PROC. DE D...   \n",
       "1811      32549  SINDPPD RS - SINDICATO DOS TRAB. EM PROC. DE D...   \n",
       "1812      31372  SINDPPD RS - SINDICATO DOS TRAB. EM PROC. DE D...   \n",
       "1813      31573  SINDPPD RS - SINDICATO DOS TRAB. EM PROC. DE D...   \n",
       "1814      35194  SINDPPD RS - SINDICATO DOS TRAB. EM PROC. DE D...   \n",
       "\n",
       "     Competência  DIAS_VALIDOS  VALOR_SINDICATO  TOTAL  Custo empresa  \\\n",
       "0        04/2025            21             37.5  787.5          630.0   \n",
       "1        04/2025            21             35.0  735.0          588.0   \n",
       "2        04/2025            21             35.0  735.0          588.0   \n",
       "3        04/2025            21             35.0  735.0          588.0   \n",
       "4        04/2025            21             35.0  735.0          588.0   \n",
       "...          ...           ...              ...    ...            ...   \n",
       "1810     04/2025            21             35.0  735.0          588.0   \n",
       "1811     04/2025            21             35.0  735.0          588.0   \n",
       "1812     04/2025            21             35.0  735.0          588.0   \n",
       "1813     04/2025            21             35.0  735.0          588.0   \n",
       "1814     04/2025            21             35.0  735.0          588.0   \n",
       "\n",
       "      Desconto profissional ESTADO_SINDICATO_SIGLA  \n",
       "0                     157.5                     SP  \n",
       "1                     147.0                     RS  \n",
       "2                     147.0                     RS  \n",
       "3                     147.0                     RS  \n",
       "4                     147.0                     RS  \n",
       "...                     ...                    ...  \n",
       "1810                  147.0                     RS  \n",
       "1811                  147.0                     RS  \n",
       "1812                  147.0                     RS  \n",
       "1813                  147.0                     RS  \n",
       "1814                  147.0                     RS  \n",
       "\n",
       "[1794 rows x 9 columns]"
      ]
     },
     "execution_count": 3685,
     "metadata": {},
     "output_type": "execute_result"
    }
   ],
   "source": [
    "df_final[[\"MATRICULA\", \"Sindicato\", \"Competência\", \"DIAS_VALIDOS\", \"VALOR_SINDICATO\", \"TOTAL\", \"Custo empresa\", \"Desconto profissional\", \"ESTADO_SINDICATO_SIGLA\"]]"
   ]
  },
  {
   "cell_type": "code",
   "execution_count": 3688,
   "id": "ff82b64e",
   "metadata": {},
   "outputs": [
    {
     "data": {
      "text/plain": [
       "DIAS_VALIDOS\n",
       "21    1726\n",
       "20       7\n",
       "0        7\n",
       "7        6\n",
       "17       6\n",
       "10       5\n",
       "12       5\n",
       "6        5\n",
       "9        4\n",
       "19       4\n",
       "16       4\n",
       "14       3\n",
       "3        3\n",
       "13       2\n",
       "4        2\n",
       "5        2\n",
       "11       1\n",
       "15       1\n",
       "1        1\n",
       "Name: count, dtype: int64"
      ]
     },
     "execution_count": 3688,
     "metadata": {},
     "output_type": "execute_result"
    }
   ],
   "source": [
    "(df_final[\"DIAS_VALIDOS\"].value_counts(dropna=False))"
   ]
  }
 ],
 "metadata": {
  "kernelspec": {
   "display_name": "Python 3",
   "language": "python",
   "name": "python3"
  },
  "language_info": {
   "codemirror_mode": {
    "name": "ipython",
    "version": 3
   },
   "file_extension": ".py",
   "mimetype": "text/x-python",
   "name": "python",
   "nbconvert_exporter": "python",
   "pygments_lexer": "ipython3",
   "version": "3.11.3"
  }
 },
 "nbformat": 4,
 "nbformat_minor": 5
}
